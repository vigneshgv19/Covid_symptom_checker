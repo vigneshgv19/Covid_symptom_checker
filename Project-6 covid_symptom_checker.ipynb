{
 "cells": [
  {
   "cell_type": "code",
   "execution_count": 1,
   "id": "handy-wheat",
   "metadata": {},
   "outputs": [],
   "source": [
    "import pandas as pd\n",
    "import numpy as np\n",
    "import matplotlib.pyplot as plt\n",
    "%matplotlib inline\n",
    "import seaborn as sns\n",
    "import warnings\n",
    "warnings.filterwarnings(\"ignore\")\n"
   ]
  },
  {
   "cell_type": "markdown",
   "id": "simple-sucking",
   "metadata": {},
   "source": [
    "# Feature Engineering"
   ]
  },
  {
   "cell_type": "code",
   "execution_count": 2,
   "id": "military-edwards",
   "metadata": {},
   "outputs": [
    {
     "data": {
      "text/html": [
       "<div>\n",
       "<style scoped>\n",
       "    .dataframe tbody tr th:only-of-type {\n",
       "        vertical-align: middle;\n",
       "    }\n",
       "\n",
       "    .dataframe tbody tr th {\n",
       "        vertical-align: top;\n",
       "    }\n",
       "\n",
       "    .dataframe thead th {\n",
       "        text-align: right;\n",
       "    }\n",
       "</style>\n",
       "<table border=\"1\" class=\"dataframe\">\n",
       "  <thead>\n",
       "    <tr style=\"text-align: right;\">\n",
       "      <th></th>\n",
       "      <th>Breathing_Problem</th>\n",
       "      <th>Fever</th>\n",
       "      <th>Dry_Cough</th>\n",
       "      <th>Sore_throat</th>\n",
       "      <th>Running_Nose</th>\n",
       "      <th>Asthma</th>\n",
       "      <th>Chronic_Lung_Disease</th>\n",
       "      <th>Headache</th>\n",
       "      <th>Heart_Disease</th>\n",
       "      <th>Diabetes</th>\n",
       "      <th>...</th>\n",
       "      <th>Fatigue</th>\n",
       "      <th>Gastrointestinal</th>\n",
       "      <th>Abroad_travel</th>\n",
       "      <th>Contact_with_COVID_Patient</th>\n",
       "      <th>Attended_Large_Gathering</th>\n",
       "      <th>Visited_Public_Exposed_Places</th>\n",
       "      <th>Family_working _in_Public_Exposed_Places</th>\n",
       "      <th>Wearing_Masks</th>\n",
       "      <th>Sanitization_from_Market</th>\n",
       "      <th>COVID-19</th>\n",
       "    </tr>\n",
       "  </thead>\n",
       "  <tbody>\n",
       "    <tr>\n",
       "      <th>0</th>\n",
       "      <td>Yes</td>\n",
       "      <td>Yes</td>\n",
       "      <td>Yes</td>\n",
       "      <td>Yes</td>\n",
       "      <td>Yes</td>\n",
       "      <td>No</td>\n",
       "      <td>No</td>\n",
       "      <td>No</td>\n",
       "      <td>No</td>\n",
       "      <td>Yes</td>\n",
       "      <td>...</td>\n",
       "      <td>Yes</td>\n",
       "      <td>Yes</td>\n",
       "      <td>No</td>\n",
       "      <td>Yes</td>\n",
       "      <td>No</td>\n",
       "      <td>Yes</td>\n",
       "      <td>Yes</td>\n",
       "      <td>No</td>\n",
       "      <td>No</td>\n",
       "      <td>Yes</td>\n",
       "    </tr>\n",
       "    <tr>\n",
       "      <th>1</th>\n",
       "      <td>Yes</td>\n",
       "      <td>Yes</td>\n",
       "      <td>Yes</td>\n",
       "      <td>Yes</td>\n",
       "      <td>No</td>\n",
       "      <td>Yes</td>\n",
       "      <td>Yes</td>\n",
       "      <td>Yes</td>\n",
       "      <td>No</td>\n",
       "      <td>No</td>\n",
       "      <td>...</td>\n",
       "      <td>Yes</td>\n",
       "      <td>No</td>\n",
       "      <td>No</td>\n",
       "      <td>No</td>\n",
       "      <td>Yes</td>\n",
       "      <td>Yes</td>\n",
       "      <td>No</td>\n",
       "      <td>No</td>\n",
       "      <td>No</td>\n",
       "      <td>Yes</td>\n",
       "    </tr>\n",
       "    <tr>\n",
       "      <th>2</th>\n",
       "      <td>Yes</td>\n",
       "      <td>Yes</td>\n",
       "      <td>Yes</td>\n",
       "      <td>Yes</td>\n",
       "      <td>Yes</td>\n",
       "      <td>Yes</td>\n",
       "      <td>Yes</td>\n",
       "      <td>Yes</td>\n",
       "      <td>No</td>\n",
       "      <td>Yes</td>\n",
       "      <td>...</td>\n",
       "      <td>Yes</td>\n",
       "      <td>Yes</td>\n",
       "      <td>Yes</td>\n",
       "      <td>No</td>\n",
       "      <td>No</td>\n",
       "      <td>No</td>\n",
       "      <td>No</td>\n",
       "      <td>No</td>\n",
       "      <td>No</td>\n",
       "      <td>Yes</td>\n",
       "    </tr>\n",
       "    <tr>\n",
       "      <th>3</th>\n",
       "      <td>Yes</td>\n",
       "      <td>Yes</td>\n",
       "      <td>Yes</td>\n",
       "      <td>No</td>\n",
       "      <td>No</td>\n",
       "      <td>Yes</td>\n",
       "      <td>No</td>\n",
       "      <td>No</td>\n",
       "      <td>Yes</td>\n",
       "      <td>Yes</td>\n",
       "      <td>...</td>\n",
       "      <td>No</td>\n",
       "      <td>No</td>\n",
       "      <td>Yes</td>\n",
       "      <td>No</td>\n",
       "      <td>Yes</td>\n",
       "      <td>Yes</td>\n",
       "      <td>No</td>\n",
       "      <td>No</td>\n",
       "      <td>No</td>\n",
       "      <td>Yes</td>\n",
       "    </tr>\n",
       "    <tr>\n",
       "      <th>4</th>\n",
       "      <td>Yes</td>\n",
       "      <td>Yes</td>\n",
       "      <td>Yes</td>\n",
       "      <td>Yes</td>\n",
       "      <td>Yes</td>\n",
       "      <td>No</td>\n",
       "      <td>Yes</td>\n",
       "      <td>Yes</td>\n",
       "      <td>Yes</td>\n",
       "      <td>Yes</td>\n",
       "      <td>...</td>\n",
       "      <td>No</td>\n",
       "      <td>Yes</td>\n",
       "      <td>No</td>\n",
       "      <td>Yes</td>\n",
       "      <td>No</td>\n",
       "      <td>Yes</td>\n",
       "      <td>No</td>\n",
       "      <td>No</td>\n",
       "      <td>No</td>\n",
       "      <td>Yes</td>\n",
       "    </tr>\n",
       "    <tr>\n",
       "      <th>...</th>\n",
       "      <td>...</td>\n",
       "      <td>...</td>\n",
       "      <td>...</td>\n",
       "      <td>...</td>\n",
       "      <td>...</td>\n",
       "      <td>...</td>\n",
       "      <td>...</td>\n",
       "      <td>...</td>\n",
       "      <td>...</td>\n",
       "      <td>...</td>\n",
       "      <td>...</td>\n",
       "      <td>...</td>\n",
       "      <td>...</td>\n",
       "      <td>...</td>\n",
       "      <td>...</td>\n",
       "      <td>...</td>\n",
       "      <td>...</td>\n",
       "      <td>...</td>\n",
       "      <td>...</td>\n",
       "      <td>...</td>\n",
       "      <td>...</td>\n",
       "    </tr>\n",
       "    <tr>\n",
       "      <th>5429</th>\n",
       "      <td>Yes</td>\n",
       "      <td>Yes</td>\n",
       "      <td>No</td>\n",
       "      <td>Yes</td>\n",
       "      <td>Yes</td>\n",
       "      <td>Yes</td>\n",
       "      <td>Yes</td>\n",
       "      <td>No</td>\n",
       "      <td>No</td>\n",
       "      <td>No</td>\n",
       "      <td>...</td>\n",
       "      <td>Yes</td>\n",
       "      <td>Yes</td>\n",
       "      <td>No</td>\n",
       "      <td>No</td>\n",
       "      <td>No</td>\n",
       "      <td>No</td>\n",
       "      <td>No</td>\n",
       "      <td>No</td>\n",
       "      <td>No</td>\n",
       "      <td>Yes</td>\n",
       "    </tr>\n",
       "    <tr>\n",
       "      <th>5430</th>\n",
       "      <td>Yes</td>\n",
       "      <td>Yes</td>\n",
       "      <td>Yes</td>\n",
       "      <td>No</td>\n",
       "      <td>Yes</td>\n",
       "      <td>Yes</td>\n",
       "      <td>No</td>\n",
       "      <td>Yes</td>\n",
       "      <td>No</td>\n",
       "      <td>Yes</td>\n",
       "      <td>...</td>\n",
       "      <td>Yes</td>\n",
       "      <td>No</td>\n",
       "      <td>No</td>\n",
       "      <td>No</td>\n",
       "      <td>No</td>\n",
       "      <td>No</td>\n",
       "      <td>No</td>\n",
       "      <td>No</td>\n",
       "      <td>No</td>\n",
       "      <td>Yes</td>\n",
       "    </tr>\n",
       "    <tr>\n",
       "      <th>5431</th>\n",
       "      <td>Yes</td>\n",
       "      <td>Yes</td>\n",
       "      <td>Yes</td>\n",
       "      <td>No</td>\n",
       "      <td>No</td>\n",
       "      <td>No</td>\n",
       "      <td>No</td>\n",
       "      <td>No</td>\n",
       "      <td>Yes</td>\n",
       "      <td>No</td>\n",
       "      <td>...</td>\n",
       "      <td>No</td>\n",
       "      <td>No</td>\n",
       "      <td>No</td>\n",
       "      <td>No</td>\n",
       "      <td>No</td>\n",
       "      <td>No</td>\n",
       "      <td>No</td>\n",
       "      <td>No</td>\n",
       "      <td>No</td>\n",
       "      <td>No</td>\n",
       "    </tr>\n",
       "    <tr>\n",
       "      <th>5432</th>\n",
       "      <td>Yes</td>\n",
       "      <td>Yes</td>\n",
       "      <td>Yes</td>\n",
       "      <td>No</td>\n",
       "      <td>Yes</td>\n",
       "      <td>No</td>\n",
       "      <td>No</td>\n",
       "      <td>Yes</td>\n",
       "      <td>Yes</td>\n",
       "      <td>No</td>\n",
       "      <td>...</td>\n",
       "      <td>No</td>\n",
       "      <td>No</td>\n",
       "      <td>No</td>\n",
       "      <td>No</td>\n",
       "      <td>No</td>\n",
       "      <td>No</td>\n",
       "      <td>No</td>\n",
       "      <td>No</td>\n",
       "      <td>No</td>\n",
       "      <td>No</td>\n",
       "    </tr>\n",
       "    <tr>\n",
       "      <th>5433</th>\n",
       "      <td>Yes</td>\n",
       "      <td>Yes</td>\n",
       "      <td>Yes</td>\n",
       "      <td>No</td>\n",
       "      <td>Yes</td>\n",
       "      <td>Yes</td>\n",
       "      <td>No</td>\n",
       "      <td>Yes</td>\n",
       "      <td>No</td>\n",
       "      <td>Yes</td>\n",
       "      <td>...</td>\n",
       "      <td>Yes</td>\n",
       "      <td>No</td>\n",
       "      <td>No</td>\n",
       "      <td>No</td>\n",
       "      <td>No</td>\n",
       "      <td>No</td>\n",
       "      <td>No</td>\n",
       "      <td>No</td>\n",
       "      <td>No</td>\n",
       "      <td>No</td>\n",
       "    </tr>\n",
       "  </tbody>\n",
       "</table>\n",
       "<p>5434 rows × 21 columns</p>\n",
       "</div>"
      ],
      "text/plain": [
       "     Breathing_Problem Fever Dry_Cough Sore_throat Running_Nose Asthma  \\\n",
       "0                  Yes   Yes       Yes         Yes          Yes     No   \n",
       "1                  Yes   Yes       Yes         Yes           No    Yes   \n",
       "2                  Yes   Yes       Yes         Yes          Yes    Yes   \n",
       "3                  Yes   Yes       Yes          No           No    Yes   \n",
       "4                  Yes   Yes       Yes         Yes          Yes     No   \n",
       "...                ...   ...       ...         ...          ...    ...   \n",
       "5429               Yes   Yes        No         Yes          Yes    Yes   \n",
       "5430               Yes   Yes       Yes          No          Yes    Yes   \n",
       "5431               Yes   Yes       Yes          No           No     No   \n",
       "5432               Yes   Yes       Yes          No          Yes     No   \n",
       "5433               Yes   Yes       Yes          No          Yes    Yes   \n",
       "\n",
       "     Chronic_Lung_Disease Headache Heart_Disease Diabetes  ... Fatigue   \\\n",
       "0                      No       No            No      Yes  ...      Yes   \n",
       "1                     Yes      Yes            No       No  ...      Yes   \n",
       "2                     Yes      Yes            No      Yes  ...      Yes   \n",
       "3                      No       No           Yes      Yes  ...       No   \n",
       "4                     Yes      Yes           Yes      Yes  ...       No   \n",
       "...                   ...      ...           ...      ...  ...      ...   \n",
       "5429                  Yes       No            No       No  ...      Yes   \n",
       "5430                   No      Yes            No      Yes  ...      Yes   \n",
       "5431                   No       No           Yes       No  ...       No   \n",
       "5432                   No      Yes           Yes       No  ...       No   \n",
       "5433                   No      Yes            No      Yes  ...      Yes   \n",
       "\n",
       "     Gastrointestinal  Abroad_travel Contact_with_COVID_Patient  \\\n",
       "0                  Yes            No                        Yes   \n",
       "1                   No            No                         No   \n",
       "2                  Yes           Yes                         No   \n",
       "3                   No           Yes                         No   \n",
       "4                  Yes            No                        Yes   \n",
       "...                ...           ...                        ...   \n",
       "5429               Yes            No                         No   \n",
       "5430                No            No                         No   \n",
       "5431                No            No                         No   \n",
       "5432                No            No                         No   \n",
       "5433                No            No                         No   \n",
       "\n",
       "     Attended_Large_Gathering Visited_Public_Exposed_Places  \\\n",
       "0                          No                           Yes   \n",
       "1                         Yes                           Yes   \n",
       "2                          No                            No   \n",
       "3                         Yes                           Yes   \n",
       "4                          No                           Yes   \n",
       "...                       ...                           ...   \n",
       "5429                       No                            No   \n",
       "5430                       No                            No   \n",
       "5431                       No                            No   \n",
       "5432                       No                            No   \n",
       "5433                       No                            No   \n",
       "\n",
       "     Family_working _in_Public_Exposed_Places Wearing_Masks  \\\n",
       "0                                         Yes            No   \n",
       "1                                          No            No   \n",
       "2                                          No            No   \n",
       "3                                          No            No   \n",
       "4                                          No            No   \n",
       "...                                       ...           ...   \n",
       "5429                                       No            No   \n",
       "5430                                       No            No   \n",
       "5431                                       No            No   \n",
       "5432                                       No            No   \n",
       "5433                                       No            No   \n",
       "\n",
       "     Sanitization_from_Market COVID-19  \n",
       "0                          No      Yes  \n",
       "1                          No      Yes  \n",
       "2                          No      Yes  \n",
       "3                          No      Yes  \n",
       "4                          No      Yes  \n",
       "...                       ...      ...  \n",
       "5429                       No      Yes  \n",
       "5430                       No      Yes  \n",
       "5431                       No       No  \n",
       "5432                       No       No  \n",
       "5433                       No       No  \n",
       "\n",
       "[5434 rows x 21 columns]"
      ]
     },
     "execution_count": 2,
     "metadata": {},
     "output_type": "execute_result"
    }
   ],
   "source": [
    "df = pd.read_excel('Covid_Dataset.xlsx')\n",
    "df"
   ]
  },
  {
   "cell_type": "code",
   "execution_count": 3,
   "id": "1543257a",
   "metadata": {},
   "outputs": [
    {
     "name": "stdout",
     "output_type": "stream",
     "text": [
      "<class 'pandas.core.frame.DataFrame'>\n",
      "RangeIndex: 5434 entries, 0 to 5433\n",
      "Data columns (total 21 columns):\n",
      " #   Column                                    Non-Null Count  Dtype \n",
      "---  ------                                    --------------  ----- \n",
      " 0   Breathing_Problem                         5434 non-null   object\n",
      " 1   Fever                                     5434 non-null   object\n",
      " 2   Dry_Cough                                 5434 non-null   object\n",
      " 3   Sore_throat                               5434 non-null   object\n",
      " 4   Running_Nose                              5434 non-null   object\n",
      " 5   Asthma                                    5434 non-null   object\n",
      " 6   Chronic_Lung_Disease                      5434 non-null   object\n",
      " 7   Headache                                  5434 non-null   object\n",
      " 8   Heart_Disease                             5434 non-null   object\n",
      " 9   Diabetes                                  5434 non-null   object\n",
      " 10  Hyper_Tension                             5434 non-null   object\n",
      " 11  Fatigue                                   5434 non-null   object\n",
      " 12  Gastrointestinal                          5434 non-null   object\n",
      " 13  Abroad_travel                             5434 non-null   object\n",
      " 14  Contact_with_COVID_Patient                5434 non-null   object\n",
      " 15  Attended_Large_Gathering                  5434 non-null   object\n",
      " 16  Visited_Public_Exposed_Places             5434 non-null   object\n",
      " 17  Family_working _in_Public_Exposed_Places  5434 non-null   object\n",
      " 18  Wearing_Masks                             5434 non-null   object\n",
      " 19  Sanitization_from_Market                  5434 non-null   object\n",
      " 20  COVID-19                                  5434 non-null   object\n",
      "dtypes: object(21)\n",
      "memory usage: 891.6+ KB\n"
     ]
    }
   ],
   "source": [
    "df.info()"
   ]
  },
  {
   "cell_type": "markdown",
   "id": "tamil-agreement",
   "metadata": {},
   "source": [
    "# Handling missing value "
   ]
  },
  {
   "cell_type": "code",
   "execution_count": 4,
   "id": "bibliographic-netscape",
   "metadata": {},
   "outputs": [
    {
     "data": {
      "text/plain": [
       "Breathing_Problem                           0\n",
       "Fever                                       0\n",
       "Dry_Cough                                   0\n",
       "Sore_throat                                 0\n",
       "Running_Nose                                0\n",
       "Asthma                                      0\n",
       "Chronic_Lung_Disease                        0\n",
       "Headache                                    0\n",
       "Heart_Disease                               0\n",
       "Diabetes                                    0\n",
       "Hyper_Tension                               0\n",
       "Fatigue                                     0\n",
       "Gastrointestinal                            0\n",
       "Abroad_travel                               0\n",
       "Contact_with_COVID_Patient                  0\n",
       "Attended_Large_Gathering                    0\n",
       "Visited_Public_Exposed_Places               0\n",
       "Family_working _in_Public_Exposed_Places    0\n",
       "Wearing_Masks                               0\n",
       "Sanitization_from_Market                    0\n",
       "COVID-19                                    0\n",
       "dtype: int64"
      ]
     },
     "execution_count": 4,
     "metadata": {},
     "output_type": "execute_result"
    }
   ],
   "source": [
    "df.isnull().sum()"
   ]
  },
  {
   "cell_type": "markdown",
   "id": "duplicate-capital",
   "metadata": {},
   "source": [
    "# Data Visualization"
   ]
  },
  {
   "cell_type": "markdown",
   "id": "standard-binding",
   "metadata": {},
   "source": [
    "#Bivariate Analysis "
   ]
  },
  {
   "cell_type": "code",
   "execution_count": 5,
   "id": "be9fcc9a",
   "metadata": {},
   "outputs": [
    {
     "data": {
      "text/html": [
       "<div>\n",
       "<style scoped>\n",
       "    .dataframe tbody tr th:only-of-type {\n",
       "        vertical-align: middle;\n",
       "    }\n",
       "\n",
       "    .dataframe tbody tr th {\n",
       "        vertical-align: top;\n",
       "    }\n",
       "\n",
       "    .dataframe thead th {\n",
       "        text-align: right;\n",
       "    }\n",
       "</style>\n",
       "<table border=\"1\" class=\"dataframe\">\n",
       "  <thead>\n",
       "    <tr style=\"text-align: right;\">\n",
       "      <th></th>\n",
       "      <th>Breathing_Problem</th>\n",
       "      <th>Fever</th>\n",
       "      <th>Dry_Cough</th>\n",
       "      <th>Sore_throat</th>\n",
       "      <th>Running_Nose</th>\n",
       "      <th>Asthma</th>\n",
       "      <th>Chronic_Lung_Disease</th>\n",
       "      <th>Headache</th>\n",
       "      <th>Heart_Disease</th>\n",
       "      <th>Diabetes</th>\n",
       "      <th>...</th>\n",
       "      <th>Fatigue</th>\n",
       "      <th>Gastrointestinal</th>\n",
       "      <th>Abroad_travel</th>\n",
       "      <th>Contact_with_COVID_Patient</th>\n",
       "      <th>Attended_Large_Gathering</th>\n",
       "      <th>Visited_Public_Exposed_Places</th>\n",
       "      <th>Family_working _in_Public_Exposed_Places</th>\n",
       "      <th>Wearing_Masks</th>\n",
       "      <th>Sanitization_from_Market</th>\n",
       "      <th>COVID-19</th>\n",
       "    </tr>\n",
       "  </thead>\n",
       "  <tbody>\n",
       "    <tr>\n",
       "      <th>count</th>\n",
       "      <td>5434</td>\n",
       "      <td>5434</td>\n",
       "      <td>5434</td>\n",
       "      <td>5434</td>\n",
       "      <td>5434</td>\n",
       "      <td>5434</td>\n",
       "      <td>5434</td>\n",
       "      <td>5434</td>\n",
       "      <td>5434</td>\n",
       "      <td>5434</td>\n",
       "      <td>...</td>\n",
       "      <td>5434</td>\n",
       "      <td>5434</td>\n",
       "      <td>5434</td>\n",
       "      <td>5434</td>\n",
       "      <td>5434</td>\n",
       "      <td>5434</td>\n",
       "      <td>5434</td>\n",
       "      <td>5434</td>\n",
       "      <td>5434</td>\n",
       "      <td>5434</td>\n",
       "    </tr>\n",
       "    <tr>\n",
       "      <th>unique</th>\n",
       "      <td>2</td>\n",
       "      <td>2</td>\n",
       "      <td>2</td>\n",
       "      <td>2</td>\n",
       "      <td>2</td>\n",
       "      <td>2</td>\n",
       "      <td>2</td>\n",
       "      <td>2</td>\n",
       "      <td>2</td>\n",
       "      <td>2</td>\n",
       "      <td>...</td>\n",
       "      <td>2</td>\n",
       "      <td>2</td>\n",
       "      <td>2</td>\n",
       "      <td>2</td>\n",
       "      <td>2</td>\n",
       "      <td>2</td>\n",
       "      <td>2</td>\n",
       "      <td>1</td>\n",
       "      <td>1</td>\n",
       "      <td>2</td>\n",
       "    </tr>\n",
       "    <tr>\n",
       "      <th>top</th>\n",
       "      <td>Yes</td>\n",
       "      <td>Yes</td>\n",
       "      <td>Yes</td>\n",
       "      <td>Yes</td>\n",
       "      <td>Yes</td>\n",
       "      <td>No</td>\n",
       "      <td>No</td>\n",
       "      <td>Yes</td>\n",
       "      <td>No</td>\n",
       "      <td>No</td>\n",
       "      <td>...</td>\n",
       "      <td>Yes</td>\n",
       "      <td>No</td>\n",
       "      <td>No</td>\n",
       "      <td>Yes</td>\n",
       "      <td>No</td>\n",
       "      <td>Yes</td>\n",
       "      <td>No</td>\n",
       "      <td>No</td>\n",
       "      <td>No</td>\n",
       "      <td>Yes</td>\n",
       "    </tr>\n",
       "    <tr>\n",
       "      <th>freq</th>\n",
       "      <td>3620</td>\n",
       "      <td>4273</td>\n",
       "      <td>4307</td>\n",
       "      <td>3953</td>\n",
       "      <td>2952</td>\n",
       "      <td>2920</td>\n",
       "      <td>2869</td>\n",
       "      <td>2736</td>\n",
       "      <td>2911</td>\n",
       "      <td>2846</td>\n",
       "      <td>...</td>\n",
       "      <td>2821</td>\n",
       "      <td>2883</td>\n",
       "      <td>2983</td>\n",
       "      <td>2726</td>\n",
       "      <td>2924</td>\n",
       "      <td>2820</td>\n",
       "      <td>3172</td>\n",
       "      <td>5434</td>\n",
       "      <td>5434</td>\n",
       "      <td>4383</td>\n",
       "    </tr>\n",
       "  </tbody>\n",
       "</table>\n",
       "<p>4 rows × 21 columns</p>\n",
       "</div>"
      ],
      "text/plain": [
       "       Breathing_Problem Fever Dry_Cough Sore_throat Running_Nose Asthma  \\\n",
       "count               5434  5434      5434        5434         5434   5434   \n",
       "unique                 2     2         2           2            2      2   \n",
       "top                  Yes   Yes       Yes         Yes          Yes     No   \n",
       "freq                3620  4273      4307        3953         2952   2920   \n",
       "\n",
       "       Chronic_Lung_Disease Headache Heart_Disease Diabetes  ... Fatigue   \\\n",
       "count                  5434     5434          5434     5434  ...     5434   \n",
       "unique                    2        2             2        2  ...        2   \n",
       "top                      No      Yes            No       No  ...      Yes   \n",
       "freq                   2869     2736          2911     2846  ...     2821   \n",
       "\n",
       "       Gastrointestinal  Abroad_travel Contact_with_COVID_Patient  \\\n",
       "count               5434          5434                       5434   \n",
       "unique                 2             2                          2   \n",
       "top                   No            No                        Yes   \n",
       "freq                2883          2983                       2726   \n",
       "\n",
       "       Attended_Large_Gathering Visited_Public_Exposed_Places  \\\n",
       "count                      5434                          5434   \n",
       "unique                        2                             2   \n",
       "top                          No                           Yes   \n",
       "freq                       2924                          2820   \n",
       "\n",
       "       Family_working _in_Public_Exposed_Places Wearing_Masks  \\\n",
       "count                                      5434          5434   \n",
       "unique                                        2             1   \n",
       "top                                          No            No   \n",
       "freq                                       3172          5434   \n",
       "\n",
       "       Sanitization_from_Market COVID-19  \n",
       "count                      5434     5434  \n",
       "unique                        1        2  \n",
       "top                          No      Yes  \n",
       "freq                       5434     4383  \n",
       "\n",
       "[4 rows x 21 columns]"
      ]
     },
     "execution_count": 5,
     "metadata": {},
     "output_type": "execute_result"
    }
   ],
   "source": [
    "df.describe()"
   ]
  },
  {
   "cell_type": "markdown",
   "id": "eab9aa0b",
   "metadata": {},
   "source": [
    "# Feature Transformation"
   ]
  },
  {
   "cell_type": "markdown",
   "id": "royal-faith",
   "metadata": {},
   "source": [
    "# LabelEncoder"
   ]
  },
  {
   "cell_type": "code",
   "execution_count": 6,
   "id": "concrete-effort",
   "metadata": {},
   "outputs": [],
   "source": [
    "from sklearn.preprocessing import LabelEncoder"
   ]
  },
  {
   "cell_type": "code",
   "execution_count": 7,
   "id": "sustained-trinity",
   "metadata": {},
   "outputs": [],
   "source": [
    "df1=df.copy()"
   ]
  },
  {
   "cell_type": "code",
   "execution_count": 8,
   "id": "infinite-scratch",
   "metadata": {},
   "outputs": [],
   "source": [
    "for x in df.columns:\n",
    "        df[x] = LabelEncoder().fit_transform(df[x])"
   ]
  },
  {
   "cell_type": "code",
   "execution_count": 9,
   "id": "bfabfc91",
   "metadata": {},
   "outputs": [
    {
     "data": {
      "text/html": [
       "<div>\n",
       "<style scoped>\n",
       "    .dataframe tbody tr th:only-of-type {\n",
       "        vertical-align: middle;\n",
       "    }\n",
       "\n",
       "    .dataframe tbody tr th {\n",
       "        vertical-align: top;\n",
       "    }\n",
       "\n",
       "    .dataframe thead th {\n",
       "        text-align: right;\n",
       "    }\n",
       "</style>\n",
       "<table border=\"1\" class=\"dataframe\">\n",
       "  <thead>\n",
       "    <tr style=\"text-align: right;\">\n",
       "      <th></th>\n",
       "      <th>Breathing_Problem</th>\n",
       "      <th>Fever</th>\n",
       "      <th>Dry_Cough</th>\n",
       "      <th>Sore_throat</th>\n",
       "      <th>Running_Nose</th>\n",
       "      <th>Asthma</th>\n",
       "      <th>Chronic_Lung_Disease</th>\n",
       "      <th>Headache</th>\n",
       "      <th>Heart_Disease</th>\n",
       "      <th>Diabetes</th>\n",
       "      <th>...</th>\n",
       "      <th>Fatigue</th>\n",
       "      <th>Gastrointestinal</th>\n",
       "      <th>Abroad_travel</th>\n",
       "      <th>Contact_with_COVID_Patient</th>\n",
       "      <th>Attended_Large_Gathering</th>\n",
       "      <th>Visited_Public_Exposed_Places</th>\n",
       "      <th>Family_working _in_Public_Exposed_Places</th>\n",
       "      <th>Wearing_Masks</th>\n",
       "      <th>Sanitization_from_Market</th>\n",
       "      <th>COVID-19</th>\n",
       "    </tr>\n",
       "  </thead>\n",
       "  <tbody>\n",
       "    <tr>\n",
       "      <th>0</th>\n",
       "      <td>1</td>\n",
       "      <td>1</td>\n",
       "      <td>1</td>\n",
       "      <td>1</td>\n",
       "      <td>1</td>\n",
       "      <td>0</td>\n",
       "      <td>0</td>\n",
       "      <td>0</td>\n",
       "      <td>0</td>\n",
       "      <td>1</td>\n",
       "      <td>...</td>\n",
       "      <td>1</td>\n",
       "      <td>1</td>\n",
       "      <td>0</td>\n",
       "      <td>1</td>\n",
       "      <td>0</td>\n",
       "      <td>1</td>\n",
       "      <td>1</td>\n",
       "      <td>0</td>\n",
       "      <td>0</td>\n",
       "      <td>1</td>\n",
       "    </tr>\n",
       "    <tr>\n",
       "      <th>1</th>\n",
       "      <td>1</td>\n",
       "      <td>1</td>\n",
       "      <td>1</td>\n",
       "      <td>1</td>\n",
       "      <td>0</td>\n",
       "      <td>1</td>\n",
       "      <td>1</td>\n",
       "      <td>1</td>\n",
       "      <td>0</td>\n",
       "      <td>0</td>\n",
       "      <td>...</td>\n",
       "      <td>1</td>\n",
       "      <td>0</td>\n",
       "      <td>0</td>\n",
       "      <td>0</td>\n",
       "      <td>1</td>\n",
       "      <td>1</td>\n",
       "      <td>0</td>\n",
       "      <td>0</td>\n",
       "      <td>0</td>\n",
       "      <td>1</td>\n",
       "    </tr>\n",
       "    <tr>\n",
       "      <th>2</th>\n",
       "      <td>1</td>\n",
       "      <td>1</td>\n",
       "      <td>1</td>\n",
       "      <td>1</td>\n",
       "      <td>1</td>\n",
       "      <td>1</td>\n",
       "      <td>1</td>\n",
       "      <td>1</td>\n",
       "      <td>0</td>\n",
       "      <td>1</td>\n",
       "      <td>...</td>\n",
       "      <td>1</td>\n",
       "      <td>1</td>\n",
       "      <td>1</td>\n",
       "      <td>0</td>\n",
       "      <td>0</td>\n",
       "      <td>0</td>\n",
       "      <td>0</td>\n",
       "      <td>0</td>\n",
       "      <td>0</td>\n",
       "      <td>1</td>\n",
       "    </tr>\n",
       "    <tr>\n",
       "      <th>3</th>\n",
       "      <td>1</td>\n",
       "      <td>1</td>\n",
       "      <td>1</td>\n",
       "      <td>0</td>\n",
       "      <td>0</td>\n",
       "      <td>1</td>\n",
       "      <td>0</td>\n",
       "      <td>0</td>\n",
       "      <td>1</td>\n",
       "      <td>1</td>\n",
       "      <td>...</td>\n",
       "      <td>0</td>\n",
       "      <td>0</td>\n",
       "      <td>1</td>\n",
       "      <td>0</td>\n",
       "      <td>1</td>\n",
       "      <td>1</td>\n",
       "      <td>0</td>\n",
       "      <td>0</td>\n",
       "      <td>0</td>\n",
       "      <td>1</td>\n",
       "    </tr>\n",
       "    <tr>\n",
       "      <th>4</th>\n",
       "      <td>1</td>\n",
       "      <td>1</td>\n",
       "      <td>1</td>\n",
       "      <td>1</td>\n",
       "      <td>1</td>\n",
       "      <td>0</td>\n",
       "      <td>1</td>\n",
       "      <td>1</td>\n",
       "      <td>1</td>\n",
       "      <td>1</td>\n",
       "      <td>...</td>\n",
       "      <td>0</td>\n",
       "      <td>1</td>\n",
       "      <td>0</td>\n",
       "      <td>1</td>\n",
       "      <td>0</td>\n",
       "      <td>1</td>\n",
       "      <td>0</td>\n",
       "      <td>0</td>\n",
       "      <td>0</td>\n",
       "      <td>1</td>\n",
       "    </tr>\n",
       "    <tr>\n",
       "      <th>...</th>\n",
       "      <td>...</td>\n",
       "      <td>...</td>\n",
       "      <td>...</td>\n",
       "      <td>...</td>\n",
       "      <td>...</td>\n",
       "      <td>...</td>\n",
       "      <td>...</td>\n",
       "      <td>...</td>\n",
       "      <td>...</td>\n",
       "      <td>...</td>\n",
       "      <td>...</td>\n",
       "      <td>...</td>\n",
       "      <td>...</td>\n",
       "      <td>...</td>\n",
       "      <td>...</td>\n",
       "      <td>...</td>\n",
       "      <td>...</td>\n",
       "      <td>...</td>\n",
       "      <td>...</td>\n",
       "      <td>...</td>\n",
       "      <td>...</td>\n",
       "    </tr>\n",
       "    <tr>\n",
       "      <th>5429</th>\n",
       "      <td>1</td>\n",
       "      <td>1</td>\n",
       "      <td>0</td>\n",
       "      <td>1</td>\n",
       "      <td>1</td>\n",
       "      <td>1</td>\n",
       "      <td>1</td>\n",
       "      <td>0</td>\n",
       "      <td>0</td>\n",
       "      <td>0</td>\n",
       "      <td>...</td>\n",
       "      <td>1</td>\n",
       "      <td>1</td>\n",
       "      <td>0</td>\n",
       "      <td>0</td>\n",
       "      <td>0</td>\n",
       "      <td>0</td>\n",
       "      <td>0</td>\n",
       "      <td>0</td>\n",
       "      <td>0</td>\n",
       "      <td>1</td>\n",
       "    </tr>\n",
       "    <tr>\n",
       "      <th>5430</th>\n",
       "      <td>1</td>\n",
       "      <td>1</td>\n",
       "      <td>1</td>\n",
       "      <td>0</td>\n",
       "      <td>1</td>\n",
       "      <td>1</td>\n",
       "      <td>0</td>\n",
       "      <td>1</td>\n",
       "      <td>0</td>\n",
       "      <td>1</td>\n",
       "      <td>...</td>\n",
       "      <td>1</td>\n",
       "      <td>0</td>\n",
       "      <td>0</td>\n",
       "      <td>0</td>\n",
       "      <td>0</td>\n",
       "      <td>0</td>\n",
       "      <td>0</td>\n",
       "      <td>0</td>\n",
       "      <td>0</td>\n",
       "      <td>1</td>\n",
       "    </tr>\n",
       "    <tr>\n",
       "      <th>5431</th>\n",
       "      <td>1</td>\n",
       "      <td>1</td>\n",
       "      <td>1</td>\n",
       "      <td>0</td>\n",
       "      <td>0</td>\n",
       "      <td>0</td>\n",
       "      <td>0</td>\n",
       "      <td>0</td>\n",
       "      <td>1</td>\n",
       "      <td>0</td>\n",
       "      <td>...</td>\n",
       "      <td>0</td>\n",
       "      <td>0</td>\n",
       "      <td>0</td>\n",
       "      <td>0</td>\n",
       "      <td>0</td>\n",
       "      <td>0</td>\n",
       "      <td>0</td>\n",
       "      <td>0</td>\n",
       "      <td>0</td>\n",
       "      <td>0</td>\n",
       "    </tr>\n",
       "    <tr>\n",
       "      <th>5432</th>\n",
       "      <td>1</td>\n",
       "      <td>1</td>\n",
       "      <td>1</td>\n",
       "      <td>0</td>\n",
       "      <td>1</td>\n",
       "      <td>0</td>\n",
       "      <td>0</td>\n",
       "      <td>1</td>\n",
       "      <td>1</td>\n",
       "      <td>0</td>\n",
       "      <td>...</td>\n",
       "      <td>0</td>\n",
       "      <td>0</td>\n",
       "      <td>0</td>\n",
       "      <td>0</td>\n",
       "      <td>0</td>\n",
       "      <td>0</td>\n",
       "      <td>0</td>\n",
       "      <td>0</td>\n",
       "      <td>0</td>\n",
       "      <td>0</td>\n",
       "    </tr>\n",
       "    <tr>\n",
       "      <th>5433</th>\n",
       "      <td>1</td>\n",
       "      <td>1</td>\n",
       "      <td>1</td>\n",
       "      <td>0</td>\n",
       "      <td>1</td>\n",
       "      <td>1</td>\n",
       "      <td>0</td>\n",
       "      <td>1</td>\n",
       "      <td>0</td>\n",
       "      <td>1</td>\n",
       "      <td>...</td>\n",
       "      <td>1</td>\n",
       "      <td>0</td>\n",
       "      <td>0</td>\n",
       "      <td>0</td>\n",
       "      <td>0</td>\n",
       "      <td>0</td>\n",
       "      <td>0</td>\n",
       "      <td>0</td>\n",
       "      <td>0</td>\n",
       "      <td>0</td>\n",
       "    </tr>\n",
       "  </tbody>\n",
       "</table>\n",
       "<p>5434 rows × 21 columns</p>\n",
       "</div>"
      ],
      "text/plain": [
       "      Breathing_Problem  Fever  Dry_Cough  Sore_throat  Running_Nose  Asthma  \\\n",
       "0                     1      1          1            1             1       0   \n",
       "1                     1      1          1            1             0       1   \n",
       "2                     1      1          1            1             1       1   \n",
       "3                     1      1          1            0             0       1   \n",
       "4                     1      1          1            1             1       0   \n",
       "...                 ...    ...        ...          ...           ...     ...   \n",
       "5429                  1      1          0            1             1       1   \n",
       "5430                  1      1          1            0             1       1   \n",
       "5431                  1      1          1            0             0       0   \n",
       "5432                  1      1          1            0             1       0   \n",
       "5433                  1      1          1            0             1       1   \n",
       "\n",
       "      Chronic_Lung_Disease  Headache  Heart_Disease  Diabetes  ...  Fatigue   \\\n",
       "0                        0         0              0         1  ...         1   \n",
       "1                        1         1              0         0  ...         1   \n",
       "2                        1         1              0         1  ...         1   \n",
       "3                        0         0              1         1  ...         0   \n",
       "4                        1         1              1         1  ...         0   \n",
       "...                    ...       ...            ...       ...  ...       ...   \n",
       "5429                     1         0              0         0  ...         1   \n",
       "5430                     0         1              0         1  ...         1   \n",
       "5431                     0         0              1         0  ...         0   \n",
       "5432                     0         1              1         0  ...         0   \n",
       "5433                     0         1              0         1  ...         1   \n",
       "\n",
       "      Gastrointestinal   Abroad_travel  Contact_with_COVID_Patient  \\\n",
       "0                     1              0                           1   \n",
       "1                     0              0                           0   \n",
       "2                     1              1                           0   \n",
       "3                     0              1                           0   \n",
       "4                     1              0                           1   \n",
       "...                 ...            ...                         ...   \n",
       "5429                  1              0                           0   \n",
       "5430                  0              0                           0   \n",
       "5431                  0              0                           0   \n",
       "5432                  0              0                           0   \n",
       "5433                  0              0                           0   \n",
       "\n",
       "      Attended_Large_Gathering  Visited_Public_Exposed_Places  \\\n",
       "0                            0                              1   \n",
       "1                            1                              1   \n",
       "2                            0                              0   \n",
       "3                            1                              1   \n",
       "4                            0                              1   \n",
       "...                        ...                            ...   \n",
       "5429                         0                              0   \n",
       "5430                         0                              0   \n",
       "5431                         0                              0   \n",
       "5432                         0                              0   \n",
       "5433                         0                              0   \n",
       "\n",
       "      Family_working _in_Public_Exposed_Places  Wearing_Masks  \\\n",
       "0                                            1              0   \n",
       "1                                            0              0   \n",
       "2                                            0              0   \n",
       "3                                            0              0   \n",
       "4                                            0              0   \n",
       "...                                        ...            ...   \n",
       "5429                                         0              0   \n",
       "5430                                         0              0   \n",
       "5431                                         0              0   \n",
       "5432                                         0              0   \n",
       "5433                                         0              0   \n",
       "\n",
       "      Sanitization_from_Market  COVID-19  \n",
       "0                            0         1  \n",
       "1                            0         1  \n",
       "2                            0         1  \n",
       "3                            0         1  \n",
       "4                            0         1  \n",
       "...                        ...       ...  \n",
       "5429                         0         1  \n",
       "5430                         0         1  \n",
       "5431                         0         0  \n",
       "5432                         0         0  \n",
       "5433                         0         0  \n",
       "\n",
       "[5434 rows x 21 columns]"
      ]
     },
     "execution_count": 9,
     "metadata": {},
     "output_type": "execute_result"
    }
   ],
   "source": [
    "df"
   ]
  },
  {
   "cell_type": "code",
   "execution_count": 10,
   "id": "9b18549d",
   "metadata": {},
   "outputs": [
    {
     "data": {
      "text/html": [
       "<div>\n",
       "<style scoped>\n",
       "    .dataframe tbody tr th:only-of-type {\n",
       "        vertical-align: middle;\n",
       "    }\n",
       "\n",
       "    .dataframe tbody tr th {\n",
       "        vertical-align: top;\n",
       "    }\n",
       "\n",
       "    .dataframe thead th {\n",
       "        text-align: right;\n",
       "    }\n",
       "</style>\n",
       "<table border=\"1\" class=\"dataframe\">\n",
       "  <thead>\n",
       "    <tr style=\"text-align: right;\">\n",
       "      <th></th>\n",
       "      <th>Breathing_Problem</th>\n",
       "      <th>Fever</th>\n",
       "      <th>Dry_Cough</th>\n",
       "      <th>Sore_throat</th>\n",
       "      <th>Running_Nose</th>\n",
       "      <th>Asthma</th>\n",
       "      <th>Chronic_Lung_Disease</th>\n",
       "      <th>Headache</th>\n",
       "      <th>Heart_Disease</th>\n",
       "      <th>Diabetes</th>\n",
       "      <th>Hyper_Tension</th>\n",
       "      <th>Fatigue</th>\n",
       "      <th>Gastrointestinal</th>\n",
       "      <th>Abroad_travel</th>\n",
       "      <th>Contact_with_COVID_Patient</th>\n",
       "      <th>Attended_Large_Gathering</th>\n",
       "      <th>Visited_Public_Exposed_Places</th>\n",
       "      <th>Family_working _in_Public_Exposed_Places</th>\n",
       "      <th>Wearing_Masks</th>\n",
       "      <th>Sanitization_from_Market</th>\n",
       "    </tr>\n",
       "  </thead>\n",
       "  <tbody>\n",
       "    <tr>\n",
       "      <th>0</th>\n",
       "      <td>1</td>\n",
       "      <td>1</td>\n",
       "      <td>1</td>\n",
       "      <td>1</td>\n",
       "      <td>1</td>\n",
       "      <td>0</td>\n",
       "      <td>0</td>\n",
       "      <td>0</td>\n",
       "      <td>0</td>\n",
       "      <td>1</td>\n",
       "      <td>1</td>\n",
       "      <td>1</td>\n",
       "      <td>1</td>\n",
       "      <td>0</td>\n",
       "      <td>1</td>\n",
       "      <td>0</td>\n",
       "      <td>1</td>\n",
       "      <td>1</td>\n",
       "      <td>0</td>\n",
       "      <td>0</td>\n",
       "    </tr>\n",
       "    <tr>\n",
       "      <th>1</th>\n",
       "      <td>1</td>\n",
       "      <td>1</td>\n",
       "      <td>1</td>\n",
       "      <td>1</td>\n",
       "      <td>0</td>\n",
       "      <td>1</td>\n",
       "      <td>1</td>\n",
       "      <td>1</td>\n",
       "      <td>0</td>\n",
       "      <td>0</td>\n",
       "      <td>0</td>\n",
       "      <td>1</td>\n",
       "      <td>0</td>\n",
       "      <td>0</td>\n",
       "      <td>0</td>\n",
       "      <td>1</td>\n",
       "      <td>1</td>\n",
       "      <td>0</td>\n",
       "      <td>0</td>\n",
       "      <td>0</td>\n",
       "    </tr>\n",
       "    <tr>\n",
       "      <th>2</th>\n",
       "      <td>1</td>\n",
       "      <td>1</td>\n",
       "      <td>1</td>\n",
       "      <td>1</td>\n",
       "      <td>1</td>\n",
       "      <td>1</td>\n",
       "      <td>1</td>\n",
       "      <td>1</td>\n",
       "      <td>0</td>\n",
       "      <td>1</td>\n",
       "      <td>0</td>\n",
       "      <td>1</td>\n",
       "      <td>1</td>\n",
       "      <td>1</td>\n",
       "      <td>0</td>\n",
       "      <td>0</td>\n",
       "      <td>0</td>\n",
       "      <td>0</td>\n",
       "      <td>0</td>\n",
       "      <td>0</td>\n",
       "    </tr>\n",
       "    <tr>\n",
       "      <th>3</th>\n",
       "      <td>1</td>\n",
       "      <td>1</td>\n",
       "      <td>1</td>\n",
       "      <td>0</td>\n",
       "      <td>0</td>\n",
       "      <td>1</td>\n",
       "      <td>0</td>\n",
       "      <td>0</td>\n",
       "      <td>1</td>\n",
       "      <td>1</td>\n",
       "      <td>0</td>\n",
       "      <td>0</td>\n",
       "      <td>0</td>\n",
       "      <td>1</td>\n",
       "      <td>0</td>\n",
       "      <td>1</td>\n",
       "      <td>1</td>\n",
       "      <td>0</td>\n",
       "      <td>0</td>\n",
       "      <td>0</td>\n",
       "    </tr>\n",
       "    <tr>\n",
       "      <th>4</th>\n",
       "      <td>1</td>\n",
       "      <td>1</td>\n",
       "      <td>1</td>\n",
       "      <td>1</td>\n",
       "      <td>1</td>\n",
       "      <td>0</td>\n",
       "      <td>1</td>\n",
       "      <td>1</td>\n",
       "      <td>1</td>\n",
       "      <td>1</td>\n",
       "      <td>1</td>\n",
       "      <td>0</td>\n",
       "      <td>1</td>\n",
       "      <td>0</td>\n",
       "      <td>1</td>\n",
       "      <td>0</td>\n",
       "      <td>1</td>\n",
       "      <td>0</td>\n",
       "      <td>0</td>\n",
       "      <td>0</td>\n",
       "    </tr>\n",
       "    <tr>\n",
       "      <th>...</th>\n",
       "      <td>...</td>\n",
       "      <td>...</td>\n",
       "      <td>...</td>\n",
       "      <td>...</td>\n",
       "      <td>...</td>\n",
       "      <td>...</td>\n",
       "      <td>...</td>\n",
       "      <td>...</td>\n",
       "      <td>...</td>\n",
       "      <td>...</td>\n",
       "      <td>...</td>\n",
       "      <td>...</td>\n",
       "      <td>...</td>\n",
       "      <td>...</td>\n",
       "      <td>...</td>\n",
       "      <td>...</td>\n",
       "      <td>...</td>\n",
       "      <td>...</td>\n",
       "      <td>...</td>\n",
       "      <td>...</td>\n",
       "    </tr>\n",
       "    <tr>\n",
       "      <th>5429</th>\n",
       "      <td>1</td>\n",
       "      <td>1</td>\n",
       "      <td>0</td>\n",
       "      <td>1</td>\n",
       "      <td>1</td>\n",
       "      <td>1</td>\n",
       "      <td>1</td>\n",
       "      <td>0</td>\n",
       "      <td>0</td>\n",
       "      <td>0</td>\n",
       "      <td>0</td>\n",
       "      <td>1</td>\n",
       "      <td>1</td>\n",
       "      <td>0</td>\n",
       "      <td>0</td>\n",
       "      <td>0</td>\n",
       "      <td>0</td>\n",
       "      <td>0</td>\n",
       "      <td>0</td>\n",
       "      <td>0</td>\n",
       "    </tr>\n",
       "    <tr>\n",
       "      <th>5430</th>\n",
       "      <td>1</td>\n",
       "      <td>1</td>\n",
       "      <td>1</td>\n",
       "      <td>0</td>\n",
       "      <td>1</td>\n",
       "      <td>1</td>\n",
       "      <td>0</td>\n",
       "      <td>1</td>\n",
       "      <td>0</td>\n",
       "      <td>1</td>\n",
       "      <td>1</td>\n",
       "      <td>1</td>\n",
       "      <td>0</td>\n",
       "      <td>0</td>\n",
       "      <td>0</td>\n",
       "      <td>0</td>\n",
       "      <td>0</td>\n",
       "      <td>0</td>\n",
       "      <td>0</td>\n",
       "      <td>0</td>\n",
       "    </tr>\n",
       "    <tr>\n",
       "      <th>5431</th>\n",
       "      <td>1</td>\n",
       "      <td>1</td>\n",
       "      <td>1</td>\n",
       "      <td>0</td>\n",
       "      <td>0</td>\n",
       "      <td>0</td>\n",
       "      <td>0</td>\n",
       "      <td>0</td>\n",
       "      <td>1</td>\n",
       "      <td>0</td>\n",
       "      <td>1</td>\n",
       "      <td>0</td>\n",
       "      <td>0</td>\n",
       "      <td>0</td>\n",
       "      <td>0</td>\n",
       "      <td>0</td>\n",
       "      <td>0</td>\n",
       "      <td>0</td>\n",
       "      <td>0</td>\n",
       "      <td>0</td>\n",
       "    </tr>\n",
       "    <tr>\n",
       "      <th>5432</th>\n",
       "      <td>1</td>\n",
       "      <td>1</td>\n",
       "      <td>1</td>\n",
       "      <td>0</td>\n",
       "      <td>1</td>\n",
       "      <td>0</td>\n",
       "      <td>0</td>\n",
       "      <td>1</td>\n",
       "      <td>1</td>\n",
       "      <td>0</td>\n",
       "      <td>0</td>\n",
       "      <td>0</td>\n",
       "      <td>0</td>\n",
       "      <td>0</td>\n",
       "      <td>0</td>\n",
       "      <td>0</td>\n",
       "      <td>0</td>\n",
       "      <td>0</td>\n",
       "      <td>0</td>\n",
       "      <td>0</td>\n",
       "    </tr>\n",
       "    <tr>\n",
       "      <th>5433</th>\n",
       "      <td>1</td>\n",
       "      <td>1</td>\n",
       "      <td>1</td>\n",
       "      <td>0</td>\n",
       "      <td>1</td>\n",
       "      <td>1</td>\n",
       "      <td>0</td>\n",
       "      <td>1</td>\n",
       "      <td>0</td>\n",
       "      <td>1</td>\n",
       "      <td>1</td>\n",
       "      <td>1</td>\n",
       "      <td>0</td>\n",
       "      <td>0</td>\n",
       "      <td>0</td>\n",
       "      <td>0</td>\n",
       "      <td>0</td>\n",
       "      <td>0</td>\n",
       "      <td>0</td>\n",
       "      <td>0</td>\n",
       "    </tr>\n",
       "  </tbody>\n",
       "</table>\n",
       "<p>5434 rows × 20 columns</p>\n",
       "</div>"
      ],
      "text/plain": [
       "      Breathing_Problem  Fever  Dry_Cough  Sore_throat  Running_Nose  Asthma  \\\n",
       "0                     1      1          1            1             1       0   \n",
       "1                     1      1          1            1             0       1   \n",
       "2                     1      1          1            1             1       1   \n",
       "3                     1      1          1            0             0       1   \n",
       "4                     1      1          1            1             1       0   \n",
       "...                 ...    ...        ...          ...           ...     ...   \n",
       "5429                  1      1          0            1             1       1   \n",
       "5430                  1      1          1            0             1       1   \n",
       "5431                  1      1          1            0             0       0   \n",
       "5432                  1      1          1            0             1       0   \n",
       "5433                  1      1          1            0             1       1   \n",
       "\n",
       "      Chronic_Lung_Disease  Headache  Heart_Disease  Diabetes  Hyper_Tension  \\\n",
       "0                        0         0              0         1              1   \n",
       "1                        1         1              0         0              0   \n",
       "2                        1         1              0         1              0   \n",
       "3                        0         0              1         1              0   \n",
       "4                        1         1              1         1              1   \n",
       "...                    ...       ...            ...       ...            ...   \n",
       "5429                     1         0              0         0              0   \n",
       "5430                     0         1              0         1              1   \n",
       "5431                     0         0              1         0              1   \n",
       "5432                     0         1              1         0              0   \n",
       "5433                     0         1              0         1              1   \n",
       "\n",
       "      Fatigue   Gastrointestinal   Abroad_travel  Contact_with_COVID_Patient  \\\n",
       "0            1                  1              0                           1   \n",
       "1            1                  0              0                           0   \n",
       "2            1                  1              1                           0   \n",
       "3            0                  0              1                           0   \n",
       "4            0                  1              0                           1   \n",
       "...        ...                ...            ...                         ...   \n",
       "5429         1                  1              0                           0   \n",
       "5430         1                  0              0                           0   \n",
       "5431         0                  0              0                           0   \n",
       "5432         0                  0              0                           0   \n",
       "5433         1                  0              0                           0   \n",
       "\n",
       "      Attended_Large_Gathering  Visited_Public_Exposed_Places  \\\n",
       "0                            0                              1   \n",
       "1                            1                              1   \n",
       "2                            0                              0   \n",
       "3                            1                              1   \n",
       "4                            0                              1   \n",
       "...                        ...                            ...   \n",
       "5429                         0                              0   \n",
       "5430                         0                              0   \n",
       "5431                         0                              0   \n",
       "5432                         0                              0   \n",
       "5433                         0                              0   \n",
       "\n",
       "      Family_working _in_Public_Exposed_Places  Wearing_Masks  \\\n",
       "0                                            1              0   \n",
       "1                                            0              0   \n",
       "2                                            0              0   \n",
       "3                                            0              0   \n",
       "4                                            0              0   \n",
       "...                                        ...            ...   \n",
       "5429                                         0              0   \n",
       "5430                                         0              0   \n",
       "5431                                         0              0   \n",
       "5432                                         0              0   \n",
       "5433                                         0              0   \n",
       "\n",
       "      Sanitization_from_Market  \n",
       "0                            0  \n",
       "1                            0  \n",
       "2                            0  \n",
       "3                            0  \n",
       "4                            0  \n",
       "...                        ...  \n",
       "5429                         0  \n",
       "5430                         0  \n",
       "5431                         0  \n",
       "5432                         0  \n",
       "5433                         0  \n",
       "\n",
       "[5434 rows x 20 columns]"
      ]
     },
     "execution_count": 10,
     "metadata": {},
     "output_type": "execute_result"
    }
   ],
   "source": [
    "x_idep = df.drop('COVID-19',axis=1)\n",
    "x_idep"
   ]
  },
  {
   "cell_type": "code",
   "execution_count": 11,
   "id": "frank-excuse",
   "metadata": {},
   "outputs": [
    {
     "data": {
      "text/plain": [
       "0       1\n",
       "1       1\n",
       "2       1\n",
       "3       1\n",
       "4       1\n",
       "       ..\n",
       "5429    1\n",
       "5430    1\n",
       "5431    0\n",
       "5432    0\n",
       "5433    0\n",
       "Name: COVID-19, Length: 5434, dtype: int64"
      ]
     },
     "execution_count": 11,
     "metadata": {},
     "output_type": "execute_result"
    }
   ],
   "source": [
    "y_dep=df['COVID-19']\n",
    "y_dep"
   ]
  },
  {
   "cell_type": "markdown",
   "id": "inclusive-murder",
   "metadata": {},
   "source": [
    "# Feature Selection"
   ]
  },
  {
   "cell_type": "markdown",
   "id": "blocked-traveler",
   "metadata": {},
   "source": [
    "# Information gain - mutual information In Classification"
   ]
  },
  {
   "cell_type": "code",
   "execution_count": 12,
   "id": "comprehensive-tulsa",
   "metadata": {},
   "outputs": [],
   "source": [
    "## It is always a good practice to split train and test data to avoid\n",
    "#overfitting\n",
    "from sklearn.model_selection import train_test_split\n",
    "X_train,X_test,y_train,y_test=train_test_split(x_idep,y_dep,\n",
    "    test_size=0.2,\n",
    "    random_state=0)"
   ]
  },
  {
   "cell_type": "code",
   "execution_count": 13,
   "id": "august-polymer",
   "metadata": {},
   "outputs": [],
   "source": [
    "from sklearn.feature_selection import mutual_info_classif\n",
    "# determine the mutual information\n",
    "mutual_info = mutual_info_classif(X_train, y_train)"
   ]
  },
  {
   "cell_type": "code",
   "execution_count": 14,
   "id": "affected-conditioning",
   "metadata": {},
   "outputs": [
    {
     "data": {
      "text/plain": [
       "Abroad_travel                               0.138983\n",
       "Sore_throat                                 0.117489\n",
       "Breathing_Problem                           0.104537\n",
       "Dry_Cough                                   0.096950\n",
       "Attended_Large_Gathering                    0.088484\n",
       "Contact_with_COVID_Patient                  0.077806\n",
       "Fever                                       0.065544\n",
       "Hyper_Tension                               0.014906\n",
       "Asthma                                      0.009015\n",
       "Headache                                    0.007782\n",
       "Family_working _in_Public_Exposed_Places    0.006629\n",
       "Running_Nose                                0.003583\n",
       "Heart_Disease                               0.002394\n",
       "Sanitization_from_Market                    0.001771\n",
       "Gastrointestinal                            0.001467\n",
       "Chronic_Lung_Disease                        0.000000\n",
       "Wearing_Masks                               0.000000\n",
       "Fatigue                                     0.000000\n",
       "Visited_Public_Exposed_Places               0.000000\n",
       "Diabetes                                    0.000000\n",
       "dtype: float64"
      ]
     },
     "execution_count": 14,
     "metadata": {},
     "output_type": "execute_result"
    }
   ],
   "source": [
    "mutual_info = pd.Series(mutual_info)\n",
    "mutual_info.index = X_train.columns\n",
    "mutual_info.sort_values(ascending=False)"
   ]
  },
  {
   "cell_type": "code",
   "execution_count": 15,
   "id": "intended-double",
   "metadata": {},
   "outputs": [
    {
     "data": {
      "text/plain": [
       "<AxesSubplot:>"
      ]
     },
     "execution_count": 15,
     "metadata": {},
     "output_type": "execute_result"
    },
    {
     "data": {
      "image/png": "[encoded data removed]",
      "text/plain": [
       "<Figure size 1080x360 with 1 Axes>"
      ]
     },
     "metadata": {
      "needs_background": "light"
     },
     "output_type": "display_data"
    }
   ],
   "source": [
    "\n",
    "mutual_info.sort_values(ascending=False).plot.bar(figsize=(15,5))"
   ]
  },
  {
   "cell_type": "code",
   "execution_count": 16,
   "id": "damaged-deposit",
   "metadata": {},
   "outputs": [],
   "source": [
    "from sklearn.feature_selection import SelectKBest\n"
   ]
  },
  {
   "cell_type": "code",
   "execution_count": 17,
   "id": "positive-disabled",
   "metadata": {},
   "outputs": [
    {
     "data": {
      "text/plain": [
       "Index(['Breathing_Problem', 'Fever', 'Dry_Cough', 'Sore_throat', 'Asthma',\n",
       "       'Fatigue ', 'Abroad_travel', 'Contact_with_COVID_Patient',\n",
       "       'Attended_Large_Gathering', 'Wearing_Masks'],\n",
       "      dtype='object')"
      ]
     },
     "execution_count": 17,
     "metadata": {},
     "output_type": "execute_result"
    }
   ],
   "source": [
    "#No we Will select the  top 10 important features\n",
    "sel_five_cols = SelectKBest(mutual_info_classif, k=10)\n",
    "sel_five_cols.fit(X_train, y_train)\n",
    "X_train.columns[sel_five_cols.get_support()]\n"
   ]
  },
  {
   "cell_type": "code",
   "execution_count": 18,
   "id": "weighted-perry",
   "metadata": {},
   "outputs": [],
   "source": [
    "# As we found in mutual_info_classification the fields are considered for analysis, \n",
    "# so we drop only (Gastrointestinal, Sanitization_from_Market)\n",
    "# which has no relationship with dependent variable or very less with this data set alone\n",
    "df=df.drop('Gastrointestinal ', axis=1)\n",
    "df=df.drop('Sanitization_from_Market', axis=1)"
   ]
  },
  {
   "cell_type": "code",
   "execution_count": 19,
   "id": "153f8eff",
   "metadata": {},
   "outputs": [],
   "source": [
    "x_idep=x_idep.drop('Gastrointestinal ', axis=1)\n",
    "x_idep=x_idep.drop('Sanitization_from_Market', axis=1)"
   ]
  },
  {
   "cell_type": "markdown",
   "id": "cooked-excellence",
   "metadata": {},
   "source": [
    "-------"
   ]
  },
  {
   "cell_type": "markdown",
   "id": "e98f5d12",
   "metadata": {},
   "source": [
    "# SMOTE"
   ]
  },
  {
   "cell_type": "code",
   "execution_count": 20,
   "id": "f2bd0647",
   "metadata": {},
   "outputs": [],
   "source": [
    "from sklearn.model_selection import train_test_split"
   ]
  },
  {
   "cell_type": "code",
   "execution_count": 21,
   "id": "161b9cce",
   "metadata": {},
   "outputs": [],
   "source": [
    "xtrain,xtest,ytrain,ytest=train_test_split(x_idep,y_dep,test_size=0.2,random_state=20)"
   ]
  },
  {
   "cell_type": "code",
   "execution_count": 22,
   "id": "8b8ebde6",
   "metadata": {},
   "outputs": [],
   "source": [
    "# pip install imblearn"
   ]
  },
  {
   "cell_type": "code",
   "execution_count": 23,
   "id": "f9c5e9d8",
   "metadata": {},
   "outputs": [],
   "source": [
    "import imblearn"
   ]
  },
  {
   "cell_type": "code",
   "execution_count": 24,
   "id": "162ca7b6",
   "metadata": {},
   "outputs": [
    {
     "data": {
      "text/html": [
       "<div>\n",
       "<style scoped>\n",
       "    .dataframe tbody tr th:only-of-type {\n",
       "        vertical-align: middle;\n",
       "    }\n",
       "\n",
       "    .dataframe tbody tr th {\n",
       "        vertical-align: top;\n",
       "    }\n",
       "\n",
       "    .dataframe thead th {\n",
       "        text-align: right;\n",
       "    }\n",
       "</style>\n",
       "<table border=\"1\" class=\"dataframe\">\n",
       "  <thead>\n",
       "    <tr style=\"text-align: right;\">\n",
       "      <th></th>\n",
       "      <th>Breathing_Problem</th>\n",
       "      <th>Fever</th>\n",
       "      <th>Dry_Cough</th>\n",
       "      <th>Sore_throat</th>\n",
       "      <th>Running_Nose</th>\n",
       "      <th>Asthma</th>\n",
       "      <th>Chronic_Lung_Disease</th>\n",
       "      <th>Headache</th>\n",
       "      <th>Heart_Disease</th>\n",
       "      <th>Diabetes</th>\n",
       "      <th>Hyper_Tension</th>\n",
       "      <th>Fatigue</th>\n",
       "      <th>Abroad_travel</th>\n",
       "      <th>Contact_with_COVID_Patient</th>\n",
       "      <th>Attended_Large_Gathering</th>\n",
       "      <th>Visited_Public_Exposed_Places</th>\n",
       "      <th>Family_working _in_Public_Exposed_Places</th>\n",
       "      <th>Wearing_Masks</th>\n",
       "    </tr>\n",
       "  </thead>\n",
       "  <tbody>\n",
       "    <tr>\n",
       "      <th>0</th>\n",
       "      <td>1</td>\n",
       "      <td>1</td>\n",
       "      <td>1</td>\n",
       "      <td>1</td>\n",
       "      <td>1</td>\n",
       "      <td>0</td>\n",
       "      <td>0</td>\n",
       "      <td>0</td>\n",
       "      <td>0</td>\n",
       "      <td>1</td>\n",
       "      <td>1</td>\n",
       "      <td>1</td>\n",
       "      <td>0</td>\n",
       "      <td>1</td>\n",
       "      <td>0</td>\n",
       "      <td>1</td>\n",
       "      <td>1</td>\n",
       "      <td>0</td>\n",
       "    </tr>\n",
       "    <tr>\n",
       "      <th>1</th>\n",
       "      <td>1</td>\n",
       "      <td>1</td>\n",
       "      <td>1</td>\n",
       "      <td>1</td>\n",
       "      <td>0</td>\n",
       "      <td>1</td>\n",
       "      <td>1</td>\n",
       "      <td>1</td>\n",
       "      <td>0</td>\n",
       "      <td>0</td>\n",
       "      <td>0</td>\n",
       "      <td>1</td>\n",
       "      <td>0</td>\n",
       "      <td>0</td>\n",
       "      <td>1</td>\n",
       "      <td>1</td>\n",
       "      <td>0</td>\n",
       "      <td>0</td>\n",
       "    </tr>\n",
       "    <tr>\n",
       "      <th>2</th>\n",
       "      <td>1</td>\n",
       "      <td>1</td>\n",
       "      <td>1</td>\n",
       "      <td>1</td>\n",
       "      <td>1</td>\n",
       "      <td>1</td>\n",
       "      <td>1</td>\n",
       "      <td>1</td>\n",
       "      <td>0</td>\n",
       "      <td>1</td>\n",
       "      <td>0</td>\n",
       "      <td>1</td>\n",
       "      <td>1</td>\n",
       "      <td>0</td>\n",
       "      <td>0</td>\n",
       "      <td>0</td>\n",
       "      <td>0</td>\n",
       "      <td>0</td>\n",
       "    </tr>\n",
       "    <tr>\n",
       "      <th>3</th>\n",
       "      <td>1</td>\n",
       "      <td>1</td>\n",
       "      <td>1</td>\n",
       "      <td>0</td>\n",
       "      <td>0</td>\n",
       "      <td>1</td>\n",
       "      <td>0</td>\n",
       "      <td>0</td>\n",
       "      <td>1</td>\n",
       "      <td>1</td>\n",
       "      <td>0</td>\n",
       "      <td>0</td>\n",
       "      <td>1</td>\n",
       "      <td>0</td>\n",
       "      <td>1</td>\n",
       "      <td>1</td>\n",
       "      <td>0</td>\n",
       "      <td>0</td>\n",
       "    </tr>\n",
       "    <tr>\n",
       "      <th>4</th>\n",
       "      <td>1</td>\n",
       "      <td>1</td>\n",
       "      <td>1</td>\n",
       "      <td>1</td>\n",
       "      <td>1</td>\n",
       "      <td>0</td>\n",
       "      <td>1</td>\n",
       "      <td>1</td>\n",
       "      <td>1</td>\n",
       "      <td>1</td>\n",
       "      <td>1</td>\n",
       "      <td>0</td>\n",
       "      <td>0</td>\n",
       "      <td>1</td>\n",
       "      <td>0</td>\n",
       "      <td>1</td>\n",
       "      <td>0</td>\n",
       "      <td>0</td>\n",
       "    </tr>\n",
       "    <tr>\n",
       "      <th>...</th>\n",
       "      <td>...</td>\n",
       "      <td>...</td>\n",
       "      <td>...</td>\n",
       "      <td>...</td>\n",
       "      <td>...</td>\n",
       "      <td>...</td>\n",
       "      <td>...</td>\n",
       "      <td>...</td>\n",
       "      <td>...</td>\n",
       "      <td>...</td>\n",
       "      <td>...</td>\n",
       "      <td>...</td>\n",
       "      <td>...</td>\n",
       "      <td>...</td>\n",
       "      <td>...</td>\n",
       "      <td>...</td>\n",
       "      <td>...</td>\n",
       "      <td>...</td>\n",
       "    </tr>\n",
       "    <tr>\n",
       "      <th>5429</th>\n",
       "      <td>1</td>\n",
       "      <td>1</td>\n",
       "      <td>0</td>\n",
       "      <td>1</td>\n",
       "      <td>1</td>\n",
       "      <td>1</td>\n",
       "      <td>1</td>\n",
       "      <td>0</td>\n",
       "      <td>0</td>\n",
       "      <td>0</td>\n",
       "      <td>0</td>\n",
       "      <td>1</td>\n",
       "      <td>0</td>\n",
       "      <td>0</td>\n",
       "      <td>0</td>\n",
       "      <td>0</td>\n",
       "      <td>0</td>\n",
       "      <td>0</td>\n",
       "    </tr>\n",
       "    <tr>\n",
       "      <th>5430</th>\n",
       "      <td>1</td>\n",
       "      <td>1</td>\n",
       "      <td>1</td>\n",
       "      <td>0</td>\n",
       "      <td>1</td>\n",
       "      <td>1</td>\n",
       "      <td>0</td>\n",
       "      <td>1</td>\n",
       "      <td>0</td>\n",
       "      <td>1</td>\n",
       "      <td>1</td>\n",
       "      <td>1</td>\n",
       "      <td>0</td>\n",
       "      <td>0</td>\n",
       "      <td>0</td>\n",
       "      <td>0</td>\n",
       "      <td>0</td>\n",
       "      <td>0</td>\n",
       "    </tr>\n",
       "    <tr>\n",
       "      <th>5431</th>\n",
       "      <td>1</td>\n",
       "      <td>1</td>\n",
       "      <td>1</td>\n",
       "      <td>0</td>\n",
       "      <td>0</td>\n",
       "      <td>0</td>\n",
       "      <td>0</td>\n",
       "      <td>0</td>\n",
       "      <td>1</td>\n",
       "      <td>0</td>\n",
       "      <td>1</td>\n",
       "      <td>0</td>\n",
       "      <td>0</td>\n",
       "      <td>0</td>\n",
       "      <td>0</td>\n",
       "      <td>0</td>\n",
       "      <td>0</td>\n",
       "      <td>0</td>\n",
       "    </tr>\n",
       "    <tr>\n",
       "      <th>5432</th>\n",
       "      <td>1</td>\n",
       "      <td>1</td>\n",
       "      <td>1</td>\n",
       "      <td>0</td>\n",
       "      <td>1</td>\n",
       "      <td>0</td>\n",
       "      <td>0</td>\n",
       "      <td>1</td>\n",
       "      <td>1</td>\n",
       "      <td>0</td>\n",
       "      <td>0</td>\n",
       "      <td>0</td>\n",
       "      <td>0</td>\n",
       "      <td>0</td>\n",
       "      <td>0</td>\n",
       "      <td>0</td>\n",
       "      <td>0</td>\n",
       "      <td>0</td>\n",
       "    </tr>\n",
       "    <tr>\n",
       "      <th>5433</th>\n",
       "      <td>1</td>\n",
       "      <td>1</td>\n",
       "      <td>1</td>\n",
       "      <td>0</td>\n",
       "      <td>1</td>\n",
       "      <td>1</td>\n",
       "      <td>0</td>\n",
       "      <td>1</td>\n",
       "      <td>0</td>\n",
       "      <td>1</td>\n",
       "      <td>1</td>\n",
       "      <td>1</td>\n",
       "      <td>0</td>\n",
       "      <td>0</td>\n",
       "      <td>0</td>\n",
       "      <td>0</td>\n",
       "      <td>0</td>\n",
       "      <td>0</td>\n",
       "    </tr>\n",
       "  </tbody>\n",
       "</table>\n",
       "<p>5434 rows × 18 columns</p>\n",
       "</div>"
      ],
      "text/plain": [
       "      Breathing_Problem  Fever  Dry_Cough  Sore_throat  Running_Nose  Asthma  \\\n",
       "0                     1      1          1            1             1       0   \n",
       "1                     1      1          1            1             0       1   \n",
       "2                     1      1          1            1             1       1   \n",
       "3                     1      1          1            0             0       1   \n",
       "4                     1      1          1            1             1       0   \n",
       "...                 ...    ...        ...          ...           ...     ...   \n",
       "5429                  1      1          0            1             1       1   \n",
       "5430                  1      1          1            0             1       1   \n",
       "5431                  1      1          1            0             0       0   \n",
       "5432                  1      1          1            0             1       0   \n",
       "5433                  1      1          1            0             1       1   \n",
       "\n",
       "      Chronic_Lung_Disease  Headache  Heart_Disease  Diabetes  Hyper_Tension  \\\n",
       "0                        0         0              0         1              1   \n",
       "1                        1         1              0         0              0   \n",
       "2                        1         1              0         1              0   \n",
       "3                        0         0              1         1              0   \n",
       "4                        1         1              1         1              1   \n",
       "...                    ...       ...            ...       ...            ...   \n",
       "5429                     1         0              0         0              0   \n",
       "5430                     0         1              0         1              1   \n",
       "5431                     0         0              1         0              1   \n",
       "5432                     0         1              1         0              0   \n",
       "5433                     0         1              0         1              1   \n",
       "\n",
       "      Fatigue   Abroad_travel  Contact_with_COVID_Patient  \\\n",
       "0            1              0                           1   \n",
       "1            1              0                           0   \n",
       "2            1              1                           0   \n",
       "3            0              1                           0   \n",
       "4            0              0                           1   \n",
       "...        ...            ...                         ...   \n",
       "5429         1              0                           0   \n",
       "5430         1              0                           0   \n",
       "5431         0              0                           0   \n",
       "5432         0              0                           0   \n",
       "5433         1              0                           0   \n",
       "\n",
       "      Attended_Large_Gathering  Visited_Public_Exposed_Places  \\\n",
       "0                            0                              1   \n",
       "1                            1                              1   \n",
       "2                            0                              0   \n",
       "3                            1                              1   \n",
       "4                            0                              1   \n",
       "...                        ...                            ...   \n",
       "5429                         0                              0   \n",
       "5430                         0                              0   \n",
       "5431                         0                              0   \n",
       "5432                         0                              0   \n",
       "5433                         0                              0   \n",
       "\n",
       "      Family_working _in_Public_Exposed_Places  Wearing_Masks  \n",
       "0                                            1              0  \n",
       "1                                            0              0  \n",
       "2                                            0              0  \n",
       "3                                            0              0  \n",
       "4                                            0              0  \n",
       "...                                        ...            ...  \n",
       "5429                                         0              0  \n",
       "5430                                         0              0  \n",
       "5431                                         0              0  \n",
       "5432                                         0              0  \n",
       "5433                                         0              0  \n",
       "\n",
       "[5434 rows x 18 columns]"
      ]
     },
     "execution_count": 24,
     "metadata": {},
     "output_type": "execute_result"
    }
   ],
   "source": [
    "x_idep"
   ]
  },
  {
   "cell_type": "code",
   "execution_count": 25,
   "id": "095b8f65",
   "metadata": {},
   "outputs": [
    {
     "data": {
      "text/plain": [
       "0       1\n",
       "1       1\n",
       "2       1\n",
       "3       1\n",
       "4       1\n",
       "       ..\n",
       "5429    1\n",
       "5430    1\n",
       "5431    0\n",
       "5432    0\n",
       "5433    0\n",
       "Name: COVID-19, Length: 5434, dtype: int64"
      ]
     },
     "execution_count": 25,
     "metadata": {},
     "output_type": "execute_result"
    }
   ],
   "source": [
    "y_dep"
   ]
  },
  {
   "cell_type": "code",
   "execution_count": 26,
   "id": "f1c57737",
   "metadata": {},
   "outputs": [],
   "source": [
    "from collections import Counter"
   ]
  },
  {
   "cell_type": "code",
   "execution_count": 27,
   "id": "d1541be2",
   "metadata": {},
   "outputs": [
    {
     "data": {
      "text/plain": [
       "Counter({1: 4383, 0: 1051})"
      ]
     },
     "execution_count": 27,
     "metadata": {},
     "output_type": "execute_result"
    }
   ],
   "source": [
    "counter=Counter(y_dep)\n",
    "counter"
   ]
  },
  {
   "cell_type": "code",
   "execution_count": 28,
   "id": "be96b06a",
   "metadata": {},
   "outputs": [
    {
     "data": {
      "text/plain": [
       "1    4383\n",
       "0    1051\n",
       "Name: COVID-19, dtype: int64"
      ]
     },
     "execution_count": 28,
     "metadata": {},
     "output_type": "execute_result"
    }
   ],
   "source": [
    "y_dep.value_counts()"
   ]
  },
  {
   "cell_type": "code",
   "execution_count": 29,
   "id": "e7e79fc4",
   "metadata": {},
   "outputs": [],
   "source": [
    "from imblearn.over_sampling import SMOTE\n",
    "bal=SMOTE()"
   ]
  },
  {
   "cell_type": "code",
   "execution_count": 30,
   "id": "f8fe71ff",
   "metadata": {},
   "outputs": [],
   "source": [
    "x_idep, y_dep= bal.fit_resample(x_idep, y_dep)"
   ]
  },
  {
   "cell_type": "code",
   "execution_count": 31,
   "id": "7dafc1d6",
   "metadata": {},
   "outputs": [
    {
     "data": {
      "text/plain": [
       "1    4383\n",
       "0    4383\n",
       "Name: COVID-19, dtype: int64"
      ]
     },
     "execution_count": 31,
     "metadata": {},
     "output_type": "execute_result"
    }
   ],
   "source": [
    "y_dep.value_counts()"
   ]
  },
  {
   "cell_type": "code",
   "execution_count": null,
   "id": "ecd91db7",
   "metadata": {},
   "outputs": [],
   "source": []
  },
  {
   "cell_type": "markdown",
   "id": "excessive-metadata",
   "metadata": {},
   "source": [
    "# Logistic Regression"
   ]
  },
  {
   "cell_type": "code",
   "execution_count": 32,
   "id": "bound-dakota",
   "metadata": {},
   "outputs": [],
   "source": [
    "from sklearn.model_selection import train_test_split"
   ]
  },
  {
   "cell_type": "code",
   "execution_count": 33,
   "id": "54de18f7",
   "metadata": {},
   "outputs": [],
   "source": [
    "xtrain,xtest,ytrain,ytest = train_test_split(x_idep,y_dep, test_size=0.2)"
   ]
  },
  {
   "cell_type": "code",
   "execution_count": 34,
   "id": "0f5793ec",
   "metadata": {},
   "outputs": [],
   "source": [
    "from sklearn.linear_model import LogisticRegression"
   ]
  },
  {
   "cell_type": "code",
   "execution_count": 35,
   "id": "530cac3d",
   "metadata": {},
   "outputs": [],
   "source": [
    "model=LogisticRegression()\n",
    "modelfit = model.fit(xtrain,ytrain)"
   ]
  },
  {
   "cell_type": "code",
   "execution_count": 36,
   "id": "fbd34220",
   "metadata": {},
   "outputs": [],
   "source": [
    "from sklearn.metrics import classification_report,accuracy_score,confusion_matrix"
   ]
  },
  {
   "cell_type": "code",
   "execution_count": 37,
   "id": "fc46d458",
   "metadata": {},
   "outputs": [],
   "source": [
    "Predict_model0=modelfit.predict(xtest)"
   ]
  },
  {
   "cell_type": "code",
   "execution_count": 38,
   "id": "517d09cd",
   "metadata": {},
   "outputs": [
    {
     "data": {
      "text/plain": [
       "array([[856,  27],\n",
       "       [ 51, 820]])"
      ]
     },
     "execution_count": 38,
     "metadata": {},
     "output_type": "execute_result"
    }
   ],
   "source": [
    "confusion_matrix(ytest,Predict_model0)"
   ]
  },
  {
   "cell_type": "code",
   "execution_count": 39,
   "id": "c5cd248b",
   "metadata": {},
   "outputs": [
    {
     "data": {
      "text/plain": [
       "(95.55302166476625, '%')"
      ]
     },
     "execution_count": 39,
     "metadata": {},
     "output_type": "execute_result"
    }
   ],
   "source": [
    "lr_acc=(accuracy_score(ytest,Predict_model0)*100,\"%\")\n",
    "lr_acc"
   ]
  },
  {
   "cell_type": "code",
   "execution_count": 40,
   "id": "2f9c8d00",
   "metadata": {},
   "outputs": [],
   "source": [
    "# classification report"
   ]
  },
  {
   "cell_type": "code",
   "execution_count": 41,
   "id": "d3534d1a",
   "metadata": {},
   "outputs": [],
   "source": [
    "import sklearn\n",
    "from sklearn.metrics import classification_report "
   ]
  },
  {
   "cell_type": "code",
   "execution_count": 42,
   "id": "cb91df82",
   "metadata": {
    "scrolled": true
   },
   "outputs": [
    {
     "name": "stdout",
     "output_type": "stream",
     "text": [
      "              precision    recall  f1-score   support\n",
      "\n",
      "           0       0.94      0.97      0.96       883\n",
      "           1       0.97      0.94      0.95       871\n",
      "\n",
      "    accuracy                           0.96      1754\n",
      "   macro avg       0.96      0.96      0.96      1754\n",
      "weighted avg       0.96      0.96      0.96      1754\n",
      "\n"
     ]
    }
   ],
   "source": [
    "classification_reports=print(classification_report(ytest,Predict_model0))"
   ]
  },
  {
   "cell_type": "markdown",
   "id": "leading-habitat",
   "metadata": {},
   "source": [
    "# Gradient Boosting Classifier"
   ]
  },
  {
   "cell_type": "code",
   "execution_count": 43,
   "id": "possible-horizon",
   "metadata": {},
   "outputs": [],
   "source": [
    "from sklearn.ensemble import GradientBoostingClassifier\n",
    "from sklearn.model_selection import GridSearchCV, cross_val_score\n",
    "from sklearn.neighbors import KNeighborsClassifier\n",
    "from sklearn.ensemble import RandomForestClassifier"
   ]
  },
  {
   "cell_type": "code",
   "execution_count": 44,
   "id": "unauthorized-dividend",
   "metadata": {},
   "outputs": [],
   "source": [
    "from sklearn import preprocessing"
   ]
  },
  {
   "cell_type": "code",
   "execution_count": 45,
   "id": "sacred-driving",
   "metadata": {},
   "outputs": [],
   "source": [
    "from sklearn.ensemble import GradientBoostingClassifier"
   ]
  },
  {
   "cell_type": "code",
   "execution_count": 46,
   "id": "dramatic-astrology",
   "metadata": {},
   "outputs": [],
   "source": [
    "from sklearn.model_selection import GridSearchCV, train_test_split"
   ]
  },
  {
   "cell_type": "code",
   "execution_count": 48,
   "id": "rental-flexibility",
   "metadata": {},
   "outputs": [],
   "source": [
    "model_GB = GradientBoostingClassifier()"
   ]
  },
  {
   "cell_type": "code",
   "execution_count": 49,
   "id": "american-relative",
   "metadata": {},
   "outputs": [
    {
     "name": "stdout",
     "output_type": "stream",
     "text": [
      "{'max_depth': 5, 'min_samples_split': 4}\n",
      "0.9885905787781024\n"
     ]
    }
   ],
   "source": [
    "gbm = GridSearchCV(model_GB,\n",
    "                     param_grid = {'max_depth': range(1, 15),\n",
    "                                  'min_samples_split': range(1, 11, 3)},\n",
    "                     cv=5,\n",
    "                     n_jobs=-1,\n",
    "                     scoring='accuracy', \n",
    "#                    refit=True,\n",
    "                  )\n",
    "                      \n",
    "gbm.fit(xtrain, ytrain)\n",
    "\n",
    "print(gbm.best_params_)\n",
    "print(gbm.best_score_)"
   ]
  },
  {
   "cell_type": "code",
   "execution_count": 50,
   "id": "residential-webster",
   "metadata": {},
   "outputs": [],
   "source": [
    "# Initiate the best model\n",
    "model_GB = GradientBoostingClassifier(max_depth=5, min_samples_split=4)"
   ]
  },
  {
   "cell_type": "code",
   "execution_count": 51,
   "id": "e2573dd2",
   "metadata": {},
   "outputs": [],
   "source": [
    "# Fit the best model\n",
    "model_GB_fit=model_GB.fit(xtrain, ytrain)"
   ]
  },
  {
   "cell_type": "code",
   "execution_count": 52,
   "id": "irish-picking",
   "metadata": {},
   "outputs": [],
   "source": [
    "Predict_model1 = model_GB_fit.predict(xtest)"
   ]
  },
  {
   "cell_type": "code",
   "execution_count": 53,
   "id": "a202a2a8",
   "metadata": {},
   "outputs": [
    {
     "data": {
      "text/plain": [
       "array([[883,   0],\n",
       "       [ 24, 847]])"
      ]
     },
     "execution_count": 53,
     "metadata": {},
     "output_type": "execute_result"
    }
   ],
   "source": [
    "confusion_matrix(ytest,Predict_model1)"
   ]
  },
  {
   "cell_type": "code",
   "execution_count": 54,
   "id": "e29b1a70",
   "metadata": {},
   "outputs": [
    {
     "data": {
      "text/plain": [
       "(98.63169897377423, '%')"
      ]
     },
     "execution_count": 54,
     "metadata": {},
     "output_type": "execute_result"
    }
   ],
   "source": [
    "gbm_acc=(accuracy_score(ytest,Predict_model1)*100,\"%\")\n",
    "gbm_acc"
   ]
  },
  {
   "cell_type": "code",
   "execution_count": 55,
   "id": "e1049f58",
   "metadata": {},
   "outputs": [
    {
     "name": "stdout",
     "output_type": "stream",
     "text": [
      "              precision    recall  f1-score   support\n",
      "\n",
      "           0       0.97      1.00      0.99       883\n",
      "           1       1.00      0.97      0.99       871\n",
      "\n",
      "    accuracy                           0.99      1754\n",
      "   macro avg       0.99      0.99      0.99      1754\n",
      "weighted avg       0.99      0.99      0.99      1754\n",
      "\n"
     ]
    }
   ],
   "source": [
    "classification_reports=print(classification_report(ytest,Predict_model1))"
   ]
  },
  {
   "cell_type": "markdown",
   "id": "needed-stomach",
   "metadata": {},
   "source": [
    "__________"
   ]
  },
  {
   "cell_type": "markdown",
   "id": "flexible-representative",
   "metadata": {},
   "source": [
    "# eXtreme Gradient Boosting"
   ]
  },
  {
   "cell_type": "code",
   "execution_count": 56,
   "id": "lovely-chocolate",
   "metadata": {},
   "outputs": [],
   "source": [
    "from xgboost import XGBClassifier"
   ]
  },
  {
   "cell_type": "code",
   "execution_count": 57,
   "id": "spare-stick",
   "metadata": {},
   "outputs": [],
   "source": [
    "xgb = XGBClassifier()"
   ]
  },
  {
   "cell_type": "code",
   "execution_count": 58,
   "id": "appropriate-corps",
   "metadata": {},
   "outputs": [
    {
     "name": "stdout",
     "output_type": "stream",
     "text": [
      "{'max_depth': 6, 'min_samples_split': 1}\n",
      "0.9885905787781024\n"
     ]
    }
   ],
   "source": [
    "best_xgb = GridSearchCV(xgb,\n",
    "                     param_grid = {'max_depth': range(1, 15),\n",
    "                                  'min_samples_split': range(1, 15)},\n",
    "                     cv=5,\n",
    "                     n_jobs=-1,\n",
    "                     scoring='accuracy',\n",
    "#                         refit=True\n",
    "                       )\n",
    "                      \n",
    "best_xgb.fit(xtrain, ytrain)\n",
    "\n",
    "print(best_xgb.best_params_)\n",
    "print(best_xgb.best_score_)"
   ]
  },
  {
   "cell_type": "code",
   "execution_count": 59,
   "id": "attractive-redhead",
   "metadata": {},
   "outputs": [],
   "source": [
    "# Initiate the best model\n",
    "best_xgb = XGBClassifier(max_depth=6, min_samples_split=1)"
   ]
  },
  {
   "cell_type": "code",
   "execution_count": 60,
   "id": "e8914130",
   "metadata": {},
   "outputs": [],
   "source": [
    "# Fit the best model\n",
    "best_xgb_fit=best_xgb.fit(xtrain, ytrain)"
   ]
  },
  {
   "cell_type": "code",
   "execution_count": 61,
   "id": "nasty-tobacco",
   "metadata": {},
   "outputs": [],
   "source": [
    "Predict_model2 = best_xgb_fit.predict(xtest)"
   ]
  },
  {
   "cell_type": "code",
   "execution_count": 62,
   "id": "93a51d62",
   "metadata": {},
   "outputs": [
    {
     "data": {
      "text/plain": [
       "array([[883,   0],\n",
       "       [ 24, 847]])"
      ]
     },
     "execution_count": 62,
     "metadata": {},
     "output_type": "execute_result"
    }
   ],
   "source": [
    "confusion_matrix(ytest,Predict_model2)"
   ]
  },
  {
   "cell_type": "code",
   "execution_count": 63,
   "id": "d03131db",
   "metadata": {},
   "outputs": [
    {
     "data": {
      "text/plain": [
       "(98.63169897377423, '%')"
      ]
     },
     "execution_count": 63,
     "metadata": {},
     "output_type": "execute_result"
    }
   ],
   "source": [
    "xgb_acc=(accuracy_score(ytest,Predict_model2)*100,\"%\")\n",
    "xgb_acc"
   ]
  },
  {
   "cell_type": "code",
   "execution_count": 64,
   "id": "93f6a2c0",
   "metadata": {},
   "outputs": [
    {
     "name": "stdout",
     "output_type": "stream",
     "text": [
      "              precision    recall  f1-score   support\n",
      "\n",
      "           0       0.97      1.00      0.99       883\n",
      "           1       1.00      0.97      0.99       871\n",
      "\n",
      "    accuracy                           0.99      1754\n",
      "   macro avg       0.99      0.99      0.99      1754\n",
      "weighted avg       0.99      0.99      0.99      1754\n",
      "\n"
     ]
    }
   ],
   "source": [
    "classification_reports=print(classification_report(ytest,Predict_model2))"
   ]
  },
  {
   "cell_type": "markdown",
   "id": "personalized-memory",
   "metadata": {},
   "source": [
    "# K_Nearest_Neighbors Classifier"
   ]
  },
  {
   "cell_type": "code",
   "execution_count": 65,
   "id": "functional-columbus",
   "metadata": {},
   "outputs": [],
   "source": [
    "from sklearn.neighbors import KNeighborsClassifier"
   ]
  },
  {
   "cell_type": "code",
   "execution_count": 66,
   "id": "alone-spoke",
   "metadata": {},
   "outputs": [],
   "source": [
    "knn = KNeighborsClassifier()"
   ]
  },
  {
   "cell_type": "code",
   "execution_count": 67,
   "id": "electric-marshall",
   "metadata": {},
   "outputs": [],
   "source": [
    "knn_model = knn.fit(xtrain,ytrain)"
   ]
  },
  {
   "cell_type": "code",
   "execution_count": 68,
   "id": "independent-halifax",
   "metadata": {},
   "outputs": [],
   "source": [
    "Predict_model3 = knn_model.predict(xtest)"
   ]
  },
  {
   "cell_type": "code",
   "execution_count": 69,
   "id": "silent-document",
   "metadata": {},
   "outputs": [
    {
     "data": {
      "text/plain": [
       "array([[883,   0],\n",
       "       [ 27, 844]])"
      ]
     },
     "execution_count": 69,
     "metadata": {},
     "output_type": "execute_result"
    }
   ],
   "source": [
    "confusion_matrix(ytest,Predict_model3)"
   ]
  },
  {
   "cell_type": "code",
   "execution_count": 70,
   "id": "reserved-angola",
   "metadata": {},
   "outputs": [
    {
     "data": {
      "text/plain": [
       "(98.46066134549602, '%')"
      ]
     },
     "execution_count": 70,
     "metadata": {},
     "output_type": "execute_result"
    }
   ],
   "source": [
    "knn_acc=(accuracy_score(ytest,Predict_model3)*100,\"%\")\n",
    "knn_acc"
   ]
  },
  {
   "cell_type": "code",
   "execution_count": 71,
   "id": "legendary-house",
   "metadata": {},
   "outputs": [
    {
     "name": "stdout",
     "output_type": "stream",
     "text": [
      "              precision    recall  f1-score   support\n",
      "\n",
      "           0       0.97      1.00      0.98       883\n",
      "           1       1.00      0.97      0.98       871\n",
      "\n",
      "    accuracy                           0.98      1754\n",
      "   macro avg       0.99      0.98      0.98      1754\n",
      "weighted avg       0.99      0.98      0.98      1754\n",
      "\n"
     ]
    }
   ],
   "source": [
    "classification_reports=print(classification_report(ytest,Predict_model3))"
   ]
  },
  {
   "cell_type": "code",
   "execution_count": null,
   "id": "16f9bf5e",
   "metadata": {},
   "outputs": [],
   "source": []
  },
  {
   "cell_type": "markdown",
   "id": "accomplished-sculpture",
   "metadata": {},
   "source": [
    "______"
   ]
  },
  {
   "cell_type": "markdown",
   "id": "e45fbb38",
   "metadata": {},
   "source": [
    "# Decision Tree Classifier"
   ]
  },
  {
   "cell_type": "code",
   "execution_count": 72,
   "id": "7357aa0b",
   "metadata": {},
   "outputs": [],
   "source": [
    "from sklearn.tree import DecisionTreeClassifier"
   ]
  },
  {
   "cell_type": "code",
   "execution_count": 73,
   "id": "6667e586",
   "metadata": {},
   "outputs": [],
   "source": [
    "# Initiate the model\n",
    "dt = DecisionTreeClassifier()"
   ]
  },
  {
   "cell_type": "code",
   "execution_count": 74,
   "id": "689830ba",
   "metadata": {},
   "outputs": [],
   "source": [
    "# Grid search\n",
    "dt_gs = GridSearchCV(dt,param_grid = {'max_depth': range(1, 11),'min_samples_split': range(10, 60, 10)},\n",
    "                     cv=5,n_jobs=-1,\n",
    "                     scoring='accuracy',\n",
    "#                      refit=True\n",
    "                    )"
   ]
  },
  {
   "cell_type": "code",
   "execution_count": 75,
   "id": "044f9d72",
   "metadata": {},
   "outputs": [
    {
     "data": {
      "text/plain": [
       "GridSearchCV(cv=5, estimator=DecisionTreeClassifier(), n_jobs=-1,\n",
       "             param_grid={'max_depth': range(1, 11),\n",
       "                         'min_samples_split': range(10, 60, 10)},\n",
       "             scoring='accuracy')"
      ]
     },
     "execution_count": 75,
     "metadata": {},
     "output_type": "execute_result"
    }
   ],
   "source": [
    "dt_gs.fit(xtrain, ytrain)"
   ]
  },
  {
   "cell_type": "code",
   "execution_count": 76,
   "id": "182f948b",
   "metadata": {},
   "outputs": [
    {
     "name": "stdout",
     "output_type": "stream",
     "text": [
      "{'max_depth': 10, 'min_samples_split': 10}\n",
      "0.9883053737507664\n"
     ]
    }
   ],
   "source": [
    "print(dt_gs.best_params_)\n",
    "print(dt_gs.best_score_)"
   ]
  },
  {
   "cell_type": "code",
   "execution_count": 77,
   "id": "ca99078e",
   "metadata": {},
   "outputs": [],
   "source": [
    "# Initiate the best model\n",
    "dt_best_model = DecisionTreeClassifier(max_depth=10, min_samples_split=10)"
   ]
  },
  {
   "cell_type": "code",
   "execution_count": 78,
   "id": "7c96357d",
   "metadata": {},
   "outputs": [],
   "source": [
    "# Fit the best model\n",
    "Decision_model_fit=dt_best_model.fit(xtrain, ytrain)"
   ]
  },
  {
   "cell_type": "code",
   "execution_count": 79,
   "id": "20eaf9ce",
   "metadata": {},
   "outputs": [],
   "source": [
    "Predict_model4 = Decision_model_fit.predict(xtest)"
   ]
  },
  {
   "cell_type": "code",
   "execution_count": 80,
   "id": "0b5078d9",
   "metadata": {},
   "outputs": [
    {
     "data": {
      "text/plain": [
       "array([[883,   0],\n",
       "       [ 24, 847]])"
      ]
     },
     "execution_count": 80,
     "metadata": {},
     "output_type": "execute_result"
    }
   ],
   "source": [
    "confusion_matrix(ytest,Predict_model4)"
   ]
  },
  {
   "cell_type": "code",
   "execution_count": 81,
   "id": "680e5852",
   "metadata": {},
   "outputs": [
    {
     "data": {
      "text/plain": [
       "(98.63169897377423, '%')"
      ]
     },
     "execution_count": 81,
     "metadata": {},
     "output_type": "execute_result"
    }
   ],
   "source": [
    "dt_acc=(accuracy_score(ytest,Predict_model4)*100,\"%\")\n",
    "dt_acc"
   ]
  },
  {
   "cell_type": "code",
   "execution_count": 82,
   "id": "a3e1286e",
   "metadata": {},
   "outputs": [
    {
     "name": "stdout",
     "output_type": "stream",
     "text": [
      "              precision    recall  f1-score   support\n",
      "\n",
      "           0       0.97      1.00      0.99       883\n",
      "           1       1.00      0.97      0.99       871\n",
      "\n",
      "    accuracy                           0.99      1754\n",
      "   macro avg       0.99      0.99      0.99      1754\n",
      "weighted avg       0.99      0.99      0.99      1754\n",
      "\n"
     ]
    }
   ],
   "source": [
    "classification_reports=print(classification_report(ytest,Predict_model4))"
   ]
  },
  {
   "cell_type": "markdown",
   "id": "superb-findings",
   "metadata": {},
   "source": [
    "# Random Forest Classifier"
   ]
  },
  {
   "cell_type": "code",
   "execution_count": 83,
   "id": "first-ethics",
   "metadata": {},
   "outputs": [],
   "source": [
    "from sklearn.ensemble import RandomForestClassifier"
   ]
  },
  {
   "cell_type": "code",
   "execution_count": 84,
   "id": "grand-academy",
   "metadata": {},
   "outputs": [],
   "source": [
    "Random_model = RandomForestClassifier()"
   ]
  },
  {
   "cell_type": "code",
   "execution_count": 85,
   "id": "e6a510c2",
   "metadata": {},
   "outputs": [],
   "source": [
    "# Grid search\n",
    "rf_gs = GridSearchCV(Random_model,param_grid = {'max_depth': range(1, 15),'min_samples_split': range(10, 60, 1),\n",
    "                      \"max_features\" : [\"auto\", \"log2\", \"sqrt\"]},\n",
    "                     cv=5,n_jobs=-1,\n",
    "                     scoring='accuracy',\n",
    "#                      refit=True\n",
    "                    )"
   ]
  },
  {
   "cell_type": "code",
   "execution_count": 86,
   "id": "ccb49778",
   "metadata": {},
   "outputs": [
    {
     "data": {
      "text/plain": [
       "GridSearchCV(cv=5, estimator=RandomForestClassifier(), n_jobs=-1,\n",
       "             param_grid={'max_depth': range(1, 15),\n",
       "                         'max_features': ['auto', 'log2', 'sqrt'],\n",
       "                         'min_samples_split': range(10, 60)},\n",
       "             scoring='accuracy')"
      ]
     },
     "execution_count": 86,
     "metadata": {},
     "output_type": "execute_result"
    }
   ],
   "source": [
    "rf_gs.fit(xtrain, ytrain)"
   ]
  },
  {
   "cell_type": "code",
   "execution_count": 87,
   "id": "98ec0eab",
   "metadata": {},
   "outputs": [
    {
     "name": "stdout",
     "output_type": "stream",
     "text": [
      "{'max_depth': 9, 'max_features': 'auto', 'min_samples_split': 10}\n",
      "0.9885905787781024\n"
     ]
    }
   ],
   "source": [
    "print(rf_gs.best_params_)\n",
    "print(rf_gs.best_score_)"
   ]
  },
  {
   "cell_type": "code",
   "execution_count": 88,
   "id": "e74cfc8a",
   "metadata": {},
   "outputs": [],
   "source": [
    "# Initiate the best model\n",
    "rf_best_model = RandomForestClassifier(max_depth= 9, max_features= 'auto', min_samples_split= 10)"
   ]
  },
  {
   "cell_type": "code",
   "execution_count": 89,
   "id": "587c41e9",
   "metadata": {},
   "outputs": [],
   "source": [
    "# Fit the best model\n",
    "Random_model=rf_best_model.fit(xtrain, ytrain)"
   ]
  },
  {
   "cell_type": "code",
   "execution_count": 90,
   "id": "973f43af",
   "metadata": {},
   "outputs": [],
   "source": [
    "Predict_model5 = Random_model.predict(xtest)"
   ]
  },
  {
   "cell_type": "code",
   "execution_count": 91,
   "id": "6185db11",
   "metadata": {},
   "outputs": [
    {
     "data": {
      "text/plain": [
       "array([[883,   0],\n",
       "       [ 24, 847]])"
      ]
     },
     "execution_count": 91,
     "metadata": {},
     "output_type": "execute_result"
    }
   ],
   "source": [
    "confusion_matrix(ytest,Predict_model5)"
   ]
  },
  {
   "cell_type": "code",
   "execution_count": 92,
   "id": "4b6c7ee4",
   "metadata": {},
   "outputs": [
    {
     "data": {
      "text/plain": [
       "(98.63169897377423, '%')"
      ]
     },
     "execution_count": 92,
     "metadata": {},
     "output_type": "execute_result"
    }
   ],
   "source": [
    "rf_acc=(accuracy_score(ytest,Predict_model5)*100,\"%\")\n",
    "rf_acc"
   ]
  },
  {
   "cell_type": "code",
   "execution_count": 93,
   "id": "e664dd88",
   "metadata": {},
   "outputs": [
    {
     "name": "stdout",
     "output_type": "stream",
     "text": [
      "              precision    recall  f1-score   support\n",
      "\n",
      "           0       0.97      1.00      0.99       883\n",
      "           1       1.00      0.97      0.99       871\n",
      "\n",
      "    accuracy                           0.99      1754\n",
      "   macro avg       0.99      0.99      0.99      1754\n",
      "weighted avg       0.99      0.99      0.99      1754\n",
      "\n"
     ]
    }
   ],
   "source": [
    "classification_reports=print(classification_report(ytest,Predict_model5))"
   ]
  },
  {
   "cell_type": "markdown",
   "id": "stylish-roman",
   "metadata": {},
   "source": [
    "_________"
   ]
  },
  {
   "cell_type": "markdown",
   "id": "1dc7a261",
   "metadata": {},
   "source": [
    "# SVM Classifier"
   ]
  },
  {
   "cell_type": "code",
   "execution_count": 94,
   "id": "303bbf4d",
   "metadata": {},
   "outputs": [],
   "source": [
    "from sklearn.svm import SVC"
   ]
  },
  {
   "cell_type": "code",
   "execution_count": 95,
   "id": "755ed036",
   "metadata": {},
   "outputs": [],
   "source": [
    "sv=SVC"
   ]
  },
  {
   "cell_type": "code",
   "execution_count": 96,
   "id": "19b984d9",
   "metadata": {},
   "outputs": [],
   "source": [
    "model=SVC(C=1000, gamma= 0.01, kernel=\"rbf\")"
   ]
  },
  {
   "cell_type": "code",
   "execution_count": 97,
   "id": "666d4951",
   "metadata": {},
   "outputs": [],
   "source": [
    "fit_model= model.fit(xtrain,ytrain)"
   ]
  },
  {
   "cell_type": "code",
   "execution_count": 98,
   "id": "a832c196",
   "metadata": {},
   "outputs": [
    {
     "data": {
      "text/plain": [
       "array([184, 145], dtype=int32)"
      ]
     },
     "execution_count": 98,
     "metadata": {},
     "output_type": "execute_result"
    }
   ],
   "source": [
    "fit_model.n_support_"
   ]
  },
  {
   "cell_type": "code",
   "execution_count": 99,
   "id": "cf546210",
   "metadata": {},
   "outputs": [],
   "source": [
    "Predict_model6 = fit_model.predict(xtest)"
   ]
  },
  {
   "cell_type": "code",
   "execution_count": 100,
   "id": "c027ccb7",
   "metadata": {},
   "outputs": [
    {
     "data": {
      "text/plain": [
       "array([[883,   0],\n",
       "       [ 24, 847]])"
      ]
     },
     "execution_count": 100,
     "metadata": {},
     "output_type": "execute_result"
    }
   ],
   "source": [
    "confusion_matrix(ytest,Predict_model6)"
   ]
  },
  {
   "cell_type": "code",
   "execution_count": 101,
   "id": "4446ce8e",
   "metadata": {},
   "outputs": [
    {
     "data": {
      "text/plain": [
       "(98.63169897377423, '%')"
      ]
     },
     "execution_count": 101,
     "metadata": {},
     "output_type": "execute_result"
    }
   ],
   "source": [
    "svc_acc=(accuracy_score(ytest,Predict_model6)*100,\"%\")\n",
    "svc_acc"
   ]
  },
  {
   "cell_type": "code",
   "execution_count": 102,
   "id": "0e8d24e6",
   "metadata": {},
   "outputs": [
    {
     "name": "stdout",
     "output_type": "stream",
     "text": [
      "              precision    recall  f1-score   support\n",
      "\n",
      "           0       0.97      1.00      0.99       883\n",
      "           1       1.00      0.97      0.99       871\n",
      "\n",
      "    accuracy                           0.99      1754\n",
      "   macro avg       0.99      0.99      0.99      1754\n",
      "weighted avg       0.99      0.99      0.99      1754\n",
      "\n"
     ]
    }
   ],
   "source": [
    "classification_reports=print(classification_report(ytest,Predict_model6))"
   ]
  },
  {
   "cell_type": "markdown",
   "id": "85accebb",
   "metadata": {},
   "source": [
    "# Gaussian Navie Bayes"
   ]
  },
  {
   "cell_type": "code",
   "execution_count": 103,
   "id": "7cc66252",
   "metadata": {},
   "outputs": [],
   "source": [
    "from sklearn.naive_bayes import GaussianNB"
   ]
  },
  {
   "cell_type": "code",
   "execution_count": 104,
   "id": "ff493ad1",
   "metadata": {},
   "outputs": [],
   "source": [
    "gnb=GaussianNB()"
   ]
  },
  {
   "cell_type": "code",
   "execution_count": 105,
   "id": "20d4496b",
   "metadata": {},
   "outputs": [],
   "source": [
    "from sklearn.metrics import accuracy_score"
   ]
  },
  {
   "cell_type": "code",
   "execution_count": 106,
   "id": "b20af6c8",
   "metadata": {},
   "outputs": [
    {
     "data": {
      "text/plain": [
       "GaussianNB()"
      ]
     },
     "execution_count": 106,
     "metadata": {},
     "output_type": "execute_result"
    }
   ],
   "source": [
    "gnb.fit(xtrain,ytrain)"
   ]
  },
  {
   "cell_type": "code",
   "execution_count": 107,
   "id": "8f5c7a4a",
   "metadata": {},
   "outputs": [],
   "source": [
    "Predict_model7=gnb.predict(xtest)"
   ]
  },
  {
   "cell_type": "code",
   "execution_count": 108,
   "id": "f7a89ac6",
   "metadata": {},
   "outputs": [
    {
     "data": {
      "text/plain": [
       "array([[883,   0],\n",
       "       [278, 593]])"
      ]
     },
     "execution_count": 108,
     "metadata": {},
     "output_type": "execute_result"
    }
   ],
   "source": [
    "confusion_matrix(ytest,Predict_model7)"
   ]
  },
  {
   "cell_type": "code",
   "execution_count": 109,
   "id": "8c6dc811",
   "metadata": {},
   "outputs": [
    {
     "data": {
      "text/plain": [
       "(84.15051311288484, '%')"
      ]
     },
     "execution_count": 109,
     "metadata": {},
     "output_type": "execute_result"
    }
   ],
   "source": [
    "nb_acc=(accuracy_score(ytest,Predict_model7)*100,\"%\")\n",
    "nb_acc"
   ]
  },
  {
   "cell_type": "code",
   "execution_count": 110,
   "id": "1c9ef57d",
   "metadata": {},
   "outputs": [
    {
     "name": "stdout",
     "output_type": "stream",
     "text": [
      "              precision    recall  f1-score   support\n",
      "\n",
      "           0       0.76      1.00      0.86       883\n",
      "           1       1.00      0.68      0.81       871\n",
      "\n",
      "    accuracy                           0.84      1754\n",
      "   macro avg       0.88      0.84      0.84      1754\n",
      "weighted avg       0.88      0.84      0.84      1754\n",
      "\n"
     ]
    }
   ],
   "source": [
    "classification_reports=print(classification_report(ytest,Predict_model7))"
   ]
  },
  {
   "cell_type": "markdown",
   "id": "fourth-object",
   "metadata": {},
   "source": [
    "___________"
   ]
  },
  {
   "cell_type": "markdown",
   "id": "enhanced-string",
   "metadata": {},
   "source": [
    "# Gradio"
   ]
  },
  {
   "cell_type": "code",
   "execution_count": 111,
   "id": "characteristic-draft",
   "metadata": {},
   "outputs": [],
   "source": [
    "import gradio as gd"
   ]
  },
  {
   "cell_type": "code",
   "execution_count": 112,
   "id": "innovative-providence",
   "metadata": {},
   "outputs": [
    {
     "data": {
      "text/html": [
       "<div>\n",
       "<style scoped>\n",
       "    .dataframe tbody tr th:only-of-type {\n",
       "        vertical-align: middle;\n",
       "    }\n",
       "\n",
       "    .dataframe tbody tr th {\n",
       "        vertical-align: top;\n",
       "    }\n",
       "\n",
       "    .dataframe thead th {\n",
       "        text-align: right;\n",
       "    }\n",
       "</style>\n",
       "<table border=\"1\" class=\"dataframe\">\n",
       "  <thead>\n",
       "    <tr style=\"text-align: right;\">\n",
       "      <th></th>\n",
       "      <th>Breathing_Problem</th>\n",
       "      <th>Fever</th>\n",
       "      <th>Dry_Cough</th>\n",
       "      <th>Sore_throat</th>\n",
       "      <th>Running_Nose</th>\n",
       "      <th>Asthma</th>\n",
       "      <th>Chronic_Lung_Disease</th>\n",
       "      <th>Headache</th>\n",
       "      <th>Heart_Disease</th>\n",
       "      <th>Diabetes</th>\n",
       "      <th>Hyper_Tension</th>\n",
       "      <th>Fatigue</th>\n",
       "      <th>Gastrointestinal</th>\n",
       "      <th>Abroad_travel</th>\n",
       "      <th>Contact_with_COVID_Patient</th>\n",
       "      <th>Attended_Large_Gathering</th>\n",
       "      <th>Visited_Public_Exposed_Places</th>\n",
       "      <th>Family_working _in_Public_Exposed_Places</th>\n",
       "      <th>Wearing_Masks</th>\n",
       "      <th>Sanitization_from_Market</th>\n",
       "    </tr>\n",
       "  </thead>\n",
       "  <tbody>\n",
       "    <tr>\n",
       "      <th>0</th>\n",
       "      <td>Yes</td>\n",
       "      <td>Yes</td>\n",
       "      <td>Yes</td>\n",
       "      <td>Yes</td>\n",
       "      <td>Yes</td>\n",
       "      <td>No</td>\n",
       "      <td>No</td>\n",
       "      <td>No</td>\n",
       "      <td>No</td>\n",
       "      <td>Yes</td>\n",
       "      <td>Yes</td>\n",
       "      <td>Yes</td>\n",
       "      <td>Yes</td>\n",
       "      <td>No</td>\n",
       "      <td>Yes</td>\n",
       "      <td>No</td>\n",
       "      <td>Yes</td>\n",
       "      <td>Yes</td>\n",
       "      <td>No</td>\n",
       "      <td>No</td>\n",
       "    </tr>\n",
       "    <tr>\n",
       "      <th>1</th>\n",
       "      <td>Yes</td>\n",
       "      <td>Yes</td>\n",
       "      <td>Yes</td>\n",
       "      <td>Yes</td>\n",
       "      <td>No</td>\n",
       "      <td>Yes</td>\n",
       "      <td>Yes</td>\n",
       "      <td>Yes</td>\n",
       "      <td>No</td>\n",
       "      <td>No</td>\n",
       "      <td>No</td>\n",
       "      <td>Yes</td>\n",
       "      <td>No</td>\n",
       "      <td>No</td>\n",
       "      <td>No</td>\n",
       "      <td>Yes</td>\n",
       "      <td>Yes</td>\n",
       "      <td>No</td>\n",
       "      <td>No</td>\n",
       "      <td>No</td>\n",
       "    </tr>\n",
       "    <tr>\n",
       "      <th>2</th>\n",
       "      <td>Yes</td>\n",
       "      <td>Yes</td>\n",
       "      <td>Yes</td>\n",
       "      <td>Yes</td>\n",
       "      <td>Yes</td>\n",
       "      <td>Yes</td>\n",
       "      <td>Yes</td>\n",
       "      <td>Yes</td>\n",
       "      <td>No</td>\n",
       "      <td>Yes</td>\n",
       "      <td>No</td>\n",
       "      <td>Yes</td>\n",
       "      <td>Yes</td>\n",
       "      <td>Yes</td>\n",
       "      <td>No</td>\n",
       "      <td>No</td>\n",
       "      <td>No</td>\n",
       "      <td>No</td>\n",
       "      <td>No</td>\n",
       "      <td>No</td>\n",
       "    </tr>\n",
       "    <tr>\n",
       "      <th>3</th>\n",
       "      <td>Yes</td>\n",
       "      <td>Yes</td>\n",
       "      <td>Yes</td>\n",
       "      <td>No</td>\n",
       "      <td>No</td>\n",
       "      <td>Yes</td>\n",
       "      <td>No</td>\n",
       "      <td>No</td>\n",
       "      <td>Yes</td>\n",
       "      <td>Yes</td>\n",
       "      <td>No</td>\n",
       "      <td>No</td>\n",
       "      <td>No</td>\n",
       "      <td>Yes</td>\n",
       "      <td>No</td>\n",
       "      <td>Yes</td>\n",
       "      <td>Yes</td>\n",
       "      <td>No</td>\n",
       "      <td>No</td>\n",
       "      <td>No</td>\n",
       "    </tr>\n",
       "    <tr>\n",
       "      <th>4</th>\n",
       "      <td>Yes</td>\n",
       "      <td>Yes</td>\n",
       "      <td>Yes</td>\n",
       "      <td>Yes</td>\n",
       "      <td>Yes</td>\n",
       "      <td>No</td>\n",
       "      <td>Yes</td>\n",
       "      <td>Yes</td>\n",
       "      <td>Yes</td>\n",
       "      <td>Yes</td>\n",
       "      <td>Yes</td>\n",
       "      <td>No</td>\n",
       "      <td>Yes</td>\n",
       "      <td>No</td>\n",
       "      <td>Yes</td>\n",
       "      <td>No</td>\n",
       "      <td>Yes</td>\n",
       "      <td>No</td>\n",
       "      <td>No</td>\n",
       "      <td>No</td>\n",
       "    </tr>\n",
       "    <tr>\n",
       "      <th>...</th>\n",
       "      <td>...</td>\n",
       "      <td>...</td>\n",
       "      <td>...</td>\n",
       "      <td>...</td>\n",
       "      <td>...</td>\n",
       "      <td>...</td>\n",
       "      <td>...</td>\n",
       "      <td>...</td>\n",
       "      <td>...</td>\n",
       "      <td>...</td>\n",
       "      <td>...</td>\n",
       "      <td>...</td>\n",
       "      <td>...</td>\n",
       "      <td>...</td>\n",
       "      <td>...</td>\n",
       "      <td>...</td>\n",
       "      <td>...</td>\n",
       "      <td>...</td>\n",
       "      <td>...</td>\n",
       "      <td>...</td>\n",
       "    </tr>\n",
       "    <tr>\n",
       "      <th>5429</th>\n",
       "      <td>Yes</td>\n",
       "      <td>Yes</td>\n",
       "      <td>No</td>\n",
       "      <td>Yes</td>\n",
       "      <td>Yes</td>\n",
       "      <td>Yes</td>\n",
       "      <td>Yes</td>\n",
       "      <td>No</td>\n",
       "      <td>No</td>\n",
       "      <td>No</td>\n",
       "      <td>No</td>\n",
       "      <td>Yes</td>\n",
       "      <td>Yes</td>\n",
       "      <td>No</td>\n",
       "      <td>No</td>\n",
       "      <td>No</td>\n",
       "      <td>No</td>\n",
       "      <td>No</td>\n",
       "      <td>No</td>\n",
       "      <td>No</td>\n",
       "    </tr>\n",
       "    <tr>\n",
       "      <th>5430</th>\n",
       "      <td>Yes</td>\n",
       "      <td>Yes</td>\n",
       "      <td>Yes</td>\n",
       "      <td>No</td>\n",
       "      <td>Yes</td>\n",
       "      <td>Yes</td>\n",
       "      <td>No</td>\n",
       "      <td>Yes</td>\n",
       "      <td>No</td>\n",
       "      <td>Yes</td>\n",
       "      <td>Yes</td>\n",
       "      <td>Yes</td>\n",
       "      <td>No</td>\n",
       "      <td>No</td>\n",
       "      <td>No</td>\n",
       "      <td>No</td>\n",
       "      <td>No</td>\n",
       "      <td>No</td>\n",
       "      <td>No</td>\n",
       "      <td>No</td>\n",
       "    </tr>\n",
       "    <tr>\n",
       "      <th>5431</th>\n",
       "      <td>Yes</td>\n",
       "      <td>Yes</td>\n",
       "      <td>Yes</td>\n",
       "      <td>No</td>\n",
       "      <td>No</td>\n",
       "      <td>No</td>\n",
       "      <td>No</td>\n",
       "      <td>No</td>\n",
       "      <td>Yes</td>\n",
       "      <td>No</td>\n",
       "      <td>Yes</td>\n",
       "      <td>No</td>\n",
       "      <td>No</td>\n",
       "      <td>No</td>\n",
       "      <td>No</td>\n",
       "      <td>No</td>\n",
       "      <td>No</td>\n",
       "      <td>No</td>\n",
       "      <td>No</td>\n",
       "      <td>No</td>\n",
       "    </tr>\n",
       "    <tr>\n",
       "      <th>5432</th>\n",
       "      <td>Yes</td>\n",
       "      <td>Yes</td>\n",
       "      <td>Yes</td>\n",
       "      <td>No</td>\n",
       "      <td>Yes</td>\n",
       "      <td>No</td>\n",
       "      <td>No</td>\n",
       "      <td>Yes</td>\n",
       "      <td>Yes</td>\n",
       "      <td>No</td>\n",
       "      <td>No</td>\n",
       "      <td>No</td>\n",
       "      <td>No</td>\n",
       "      <td>No</td>\n",
       "      <td>No</td>\n",
       "      <td>No</td>\n",
       "      <td>No</td>\n",
       "      <td>No</td>\n",
       "      <td>No</td>\n",
       "      <td>No</td>\n",
       "    </tr>\n",
       "    <tr>\n",
       "      <th>5433</th>\n",
       "      <td>Yes</td>\n",
       "      <td>Yes</td>\n",
       "      <td>Yes</td>\n",
       "      <td>No</td>\n",
       "      <td>Yes</td>\n",
       "      <td>Yes</td>\n",
       "      <td>No</td>\n",
       "      <td>Yes</td>\n",
       "      <td>No</td>\n",
       "      <td>Yes</td>\n",
       "      <td>Yes</td>\n",
       "      <td>Yes</td>\n",
       "      <td>No</td>\n",
       "      <td>No</td>\n",
       "      <td>No</td>\n",
       "      <td>No</td>\n",
       "      <td>No</td>\n",
       "      <td>No</td>\n",
       "      <td>No</td>\n",
       "      <td>No</td>\n",
       "    </tr>\n",
       "  </tbody>\n",
       "</table>\n",
       "<p>5434 rows × 20 columns</p>\n",
       "</div>"
      ],
      "text/plain": [
       "     Breathing_Problem Fever Dry_Cough Sore_throat Running_Nose Asthma  \\\n",
       "0                  Yes   Yes       Yes         Yes          Yes     No   \n",
       "1                  Yes   Yes       Yes         Yes           No    Yes   \n",
       "2                  Yes   Yes       Yes         Yes          Yes    Yes   \n",
       "3                  Yes   Yes       Yes          No           No    Yes   \n",
       "4                  Yes   Yes       Yes         Yes          Yes     No   \n",
       "...                ...   ...       ...         ...          ...    ...   \n",
       "5429               Yes   Yes        No         Yes          Yes    Yes   \n",
       "5430               Yes   Yes       Yes          No          Yes    Yes   \n",
       "5431               Yes   Yes       Yes          No           No     No   \n",
       "5432               Yes   Yes       Yes          No          Yes     No   \n",
       "5433               Yes   Yes       Yes          No          Yes    Yes   \n",
       "\n",
       "     Chronic_Lung_Disease Headache Heart_Disease Diabetes Hyper_Tension  \\\n",
       "0                      No       No            No      Yes           Yes   \n",
       "1                     Yes      Yes            No       No            No   \n",
       "2                     Yes      Yes            No      Yes            No   \n",
       "3                      No       No           Yes      Yes            No   \n",
       "4                     Yes      Yes           Yes      Yes           Yes   \n",
       "...                   ...      ...           ...      ...           ...   \n",
       "5429                  Yes       No            No       No            No   \n",
       "5430                   No      Yes            No      Yes           Yes   \n",
       "5431                   No       No           Yes       No           Yes   \n",
       "5432                   No      Yes           Yes       No            No   \n",
       "5433                   No      Yes            No      Yes           Yes   \n",
       "\n",
       "     Fatigue  Gastrointestinal  Abroad_travel Contact_with_COVID_Patient  \\\n",
       "0         Yes               Yes            No                        Yes   \n",
       "1         Yes                No            No                         No   \n",
       "2         Yes               Yes           Yes                         No   \n",
       "3          No                No           Yes                         No   \n",
       "4          No               Yes            No                        Yes   \n",
       "...       ...               ...           ...                        ...   \n",
       "5429      Yes               Yes            No                         No   \n",
       "5430      Yes                No            No                         No   \n",
       "5431       No                No            No                         No   \n",
       "5432       No                No            No                         No   \n",
       "5433      Yes                No            No                         No   \n",
       "\n",
       "     Attended_Large_Gathering Visited_Public_Exposed_Places  \\\n",
       "0                          No                           Yes   \n",
       "1                         Yes                           Yes   \n",
       "2                          No                            No   \n",
       "3                         Yes                           Yes   \n",
       "4                          No                           Yes   \n",
       "...                       ...                           ...   \n",
       "5429                       No                            No   \n",
       "5430                       No                            No   \n",
       "5431                       No                            No   \n",
       "5432                       No                            No   \n",
       "5433                       No                            No   \n",
       "\n",
       "     Family_working _in_Public_Exposed_Places Wearing_Masks  \\\n",
       "0                                         Yes            No   \n",
       "1                                          No            No   \n",
       "2                                          No            No   \n",
       "3                                          No            No   \n",
       "4                                          No            No   \n",
       "...                                       ...           ...   \n",
       "5429                                       No            No   \n",
       "5430                                       No            No   \n",
       "5431                                       No            No   \n",
       "5432                                       No            No   \n",
       "5433                                       No            No   \n",
       "\n",
       "     Sanitization_from_Market  \n",
       "0                          No  \n",
       "1                          No  \n",
       "2                          No  \n",
       "3                          No  \n",
       "4                          No  \n",
       "...                       ...  \n",
       "5429                       No  \n",
       "5430                       No  \n",
       "5431                       No  \n",
       "5432                       No  \n",
       "5433                       No  \n",
       "\n",
       "[5434 rows x 20 columns]"
      ]
     },
     "execution_count": 112,
     "metadata": {},
     "output_type": "execute_result"
    }
   ],
   "source": [
    "x_indep1=df1.drop(\"COVID-19\",axis=1)\n",
    "x_indep1"
   ]
  },
  {
   "cell_type": "code",
   "execution_count": 113,
   "id": "naked-parallel",
   "metadata": {},
   "outputs": [],
   "source": [
    "Breathing_Problem = gd.inputs.Dropdown(['Yes', 'No'],label='Breathing Problem')"
   ]
  },
  {
   "cell_type": "code",
   "execution_count": 114,
   "id": "monetary-yellow",
   "metadata": {},
   "outputs": [],
   "source": [
    "Fever = gd.inputs.Dropdown(['Yes', 'No'],label='Fever')"
   ]
  },
  {
   "cell_type": "code",
   "execution_count": 115,
   "id": "convenient-invasion",
   "metadata": {},
   "outputs": [],
   "source": [
    "Dry_Cough = gd.inputs.Dropdown(['Yes', 'No'],label='Dry Cough')"
   ]
  },
  {
   "cell_type": "code",
   "execution_count": 116,
   "id": "454ae0fa",
   "metadata": {},
   "outputs": [],
   "source": [
    "Sore_throat = gd.inputs.Dropdown(['Yes', 'No'],label='Sore throat')"
   ]
  },
  {
   "cell_type": "code",
   "execution_count": 117,
   "id": "rotary-titanium",
   "metadata": {},
   "outputs": [],
   "source": [
    "Running_Nose = gd.inputs.Dropdown(['Yes', 'No'],label= 'Running Nose')"
   ]
  },
  {
   "cell_type": "code",
   "execution_count": 118,
   "id": "accredited-voluntary",
   "metadata": {},
   "outputs": [],
   "source": [
    "Asthma = gd.inputs.Dropdown(['Yes', 'No'],label= 'Asthma')"
   ]
  },
  {
   "cell_type": "code",
   "execution_count": 119,
   "id": "funky-impossible",
   "metadata": {},
   "outputs": [],
   "source": [
    "Chronic_Lung_Disease = gd.inputs.Dropdown(['Yes', 'No'],label= 'Chronic_Lung_Disease')"
   ]
  },
  {
   "cell_type": "code",
   "execution_count": 120,
   "id": "august-motion",
   "metadata": {},
   "outputs": [],
   "source": [
    "Headache = gd.inputs.Dropdown(['Yes', 'No'],label= 'Headache')"
   ]
  },
  {
   "cell_type": "code",
   "execution_count": 121,
   "id": "accomplished-activation",
   "metadata": {},
   "outputs": [],
   "source": [
    "Heart_Disease = gd.inputs.Dropdown(['Yes', 'No'],label= 'Heart_Disease')"
   ]
  },
  {
   "cell_type": "code",
   "execution_count": 122,
   "id": "854c1911",
   "metadata": {},
   "outputs": [],
   "source": [
    "Diabetes = gd.inputs.Dropdown(['Yes', 'No'],label= 'Diabetes')"
   ]
  },
  {
   "cell_type": "code",
   "execution_count": 123,
   "id": "e4c58fbd",
   "metadata": {},
   "outputs": [],
   "source": [
    "Hyper_Tension = gd.inputs.Dropdown(['Yes', 'No'],label= 'Hyper_Tension')"
   ]
  },
  {
   "cell_type": "code",
   "execution_count": 124,
   "id": "a8b7e0b9",
   "metadata": {},
   "outputs": [],
   "source": [
    "Fatigue  = gd.inputs.Dropdown(['Yes', 'No'],label= 'Fatigue ')"
   ]
  },
  {
   "cell_type": "code",
   "execution_count": 125,
   "id": "105362ca",
   "metadata": {},
   "outputs": [],
   "source": [
    "Abroad_travel = gd.inputs.Dropdown(['Yes', 'No'],label= 'Abroad travel')"
   ]
  },
  {
   "cell_type": "code",
   "execution_count": 126,
   "id": "4ba0f1d9",
   "metadata": {},
   "outputs": [],
   "source": [
    "Contact_with_COVID_Patient = gd.inputs.Dropdown(['Yes', 'No'],label= 'Contact with COVID Patient')"
   ]
  },
  {
   "cell_type": "code",
   "execution_count": 127,
   "id": "df4de782",
   "metadata": {},
   "outputs": [],
   "source": [
    "Attended_Large_Gathering = gd.inputs.Dropdown(['Yes', 'No'],label= 'Attended Large Gathering')"
   ]
  },
  {
   "cell_type": "code",
   "execution_count": 128,
   "id": "c5d2f323",
   "metadata": {},
   "outputs": [],
   "source": [
    "Visited_Public_Exposed_Places = gd.inputs.Dropdown(['Yes', 'No'],label= 'Visited Public Exposed Places')"
   ]
  },
  {
   "cell_type": "code",
   "execution_count": 129,
   "id": "5c6e0cc9",
   "metadata": {},
   "outputs": [],
   "source": [
    "Wearing_Masks = gd.inputs.Dropdown(['Yes', 'No'],label= 'Wearing_Masks')"
   ]
  },
  {
   "cell_type": "code",
   "execution_count": 130,
   "id": "390dc260",
   "metadata": {},
   "outputs": [],
   "source": [
    "Family_working_in_Public_Exposed_Places= gd.inputs.Dropdown(['Yes', 'No'],\n",
    "                                                              label= 'Family working  in Public Exposed Places')"
   ]
  },
  {
   "cell_type": "code",
   "execution_count": 131,
   "id": "5ad29f32",
   "metadata": {},
   "outputs": [],
   "source": [
    "COVID = gd.inputs.Dropdown(['Yes', 'No'],label= 'COVID-19')"
   ]
  },
  {
   "cell_type": "code",
   "execution_count": 132,
   "id": "bef7bf56",
   "metadata": {},
   "outputs": [],
   "source": [
    "def mod(Breathing_Problem,Fever,Dry_Cough,Sore_throat,Running_Nose,Asthma,\n",
    "Chronic_Lung_Disease,Headache,Heart_Disease,Diabetes,Hyper_Tension,Fatigue,Abroad_travel,Contact_with_COVID_Patient,\n",
    " Attended_Large_Gathering,Visited_Public_Exposed_Places,Family_working_in_Public_Exposed_Places,Wearing_Masks):\n",
    "    x1 = [Breathing_Problem,Fever,Dry_Cough,Sore_throat,Running_Nose,Asthma,\n",
    "Chronic_Lung_Disease,Headache,Heart_Disease,Diabetes,Hyper_Tension,Fatigue,Abroad_travel,Contact_with_COVID_Patient,\n",
    " Attended_Large_Gathering,Visited_Public_Exposed_Places,Family_working_in_Public_Exposed_Places,Wearing_Masks]\n",
    "    test=pd.read_excel(\"Covid_Dataset.xlsx\")\n",
    "    test=test.drop(['Gastrointestinal '],axis=1)\n",
    "    test=test.drop(['Sanitization_from_Market'],axis=1)\n",
    "    test=test.drop(['COVID-19'],axis=1)\n",
    "    x1 =pd.DataFrame(np.array(x1).reshape(1,-1),columns=test.columns)\n",
    "    test = test.append(x1,ignore_index = True)\n",
    "    for x in test.columns:\n",
    "        test[x] = LabelEncoder().fit_transform(test[x])\n",
    "    x2 = test.iloc[-1,:]\n",
    "    y_hat =  model_GB_fit.predict(np.array(x2).reshape(1,-1))\n",
    "    pred={0:\"No\", 1:\"Yes\"}\n",
    "    return pred[y_hat[0]]"
   ]
  },
  {
   "cell_type": "code",
   "execution_count": 136,
   "id": "documented-proposition",
   "metadata": {},
   "outputs": [
    {
     "name": "stdout",
     "output_type": "stream",
     "text": [
      "Running locally at: http://127.0.0.1:7861/\n",
      "To create a public link, set `share=True` in `launch()`.\n",
      "Interface loading below...\n"
     ]
    },
    {
     "data": {
      "text/html": [
       "\n",
       "        <iframe\n",
       "            width=\"1000\"\n",
       "            height=\"500\"\n",
       "            src=\"http://127.0.0.1:7861/\"\n",
       "            frameborder=\"0\"\n",
       "            allowfullscreen\n",
       "        ></iframe>\n",
       "        "
      ],
      "text/plain": [
       "<IPython.lib.display.IFrame at 0x12ffc4c90>"
      ]
     },
     "metadata": {},
     "output_type": "display_data"
    },
    {
     "name": "stdout",
     "output_type": "stream",
     "text": [
      "Tip: Add interpretation to your model by simply adding `interpretation=\"default\"` to `Interface()`\n"
     ]
    },
    {
     "data": {
      "text/plain": [
       "(<Flask 'gradio.networking'>, 'http://127.0.0.1:7861/', None)"
      ]
     },
     "execution_count": 136,
     "metadata": {},
     "output_type": "execute_result"
    }
   ],
   "source": [
    "gd.Interface(mod, [Breathing_Problem,Fever,Dry_Cough,Sore_throat,Running_Nose,Asthma,\n",
    "Chronic_Lung_Disease,Headache,Heart_Disease,Diabetes,Hyper_Tension,Fatigue,Abroad_travel,Contact_with_COVID_Patient,\n",
    " Attended_Large_Gathering,Visited_Public_Exposed_Places,Family_working_in_Public_Exposed_Places,Wearing_Masks],\n",
    "             gd.outputs.Textbox(label='COVID-19')).launch()\n"
   ]
  },
  {
   "cell_type": "markdown",
   "id": "7486a789",
   "metadata": {},
   "source": [
    "---------"
   ]
  },
  {
   "cell_type": "markdown",
   "id": "relevant-debate",
   "metadata": {},
   "source": [
    "# Conclusion"
   ]
  },
  {
   "cell_type": "code",
   "execution_count": 134,
   "id": "material-retail",
   "metadata": {},
   "outputs": [],
   "source": [
    "L_R = {'Accuracy':lr_acc}\n",
    "G_B_M = {'Accuracy':gbm_acc}\n",
    "e_G_B = {'Accuracy':xgb_acc}\n",
    "K_N_N = {'Accuracy':knn_acc}\n",
    "D_t  = {'Accuracy':dt_acc}\n",
    "R_f  = {'Accuracy':rf_acc}\n",
    "S_V_C = {'Accuracy':svc_acc}\n",
    "N_B = {'Accuracy':nb_acc}"
   ]
  },
  {
   "cell_type": "code",
   "execution_count": 135,
   "id": "minimal-complement",
   "metadata": {},
   "outputs": [
    {
     "data": {
      "text/html": [
       "<div>\n",
       "<style scoped>\n",
       "    .dataframe tbody tr th:only-of-type {\n",
       "        vertical-align: middle;\n",
       "    }\n",
       "\n",
       "    .dataframe tbody tr th {\n",
       "        vertical-align: top;\n",
       "    }\n",
       "\n",
       "    .dataframe thead th {\n",
       "        text-align: right;\n",
       "    }\n",
       "</style>\n",
       "<table border=\"1\" class=\"dataframe\">\n",
       "  <thead>\n",
       "    <tr style=\"text-align: right;\">\n",
       "      <th></th>\n",
       "      <th>Accuracy</th>\n",
       "    </tr>\n",
       "  </thead>\n",
       "  <tbody>\n",
       "    <tr>\n",
       "      <th>Logistic Regression</th>\n",
       "      <td>(95.55302166476625, %)</td>\n",
       "    </tr>\n",
       "    <tr>\n",
       "      <th>Gradient Boosting Classifier</th>\n",
       "      <td>(98.63169897377423, %)</td>\n",
       "    </tr>\n",
       "    <tr>\n",
       "      <th>eXtreme Gradient Boosting Classifier</th>\n",
       "      <td>(98.63169897377423, %)</td>\n",
       "    </tr>\n",
       "    <tr>\n",
       "      <th>K Nearest Neighbour Classifier</th>\n",
       "      <td>(98.46066134549602, %)</td>\n",
       "    </tr>\n",
       "    <tr>\n",
       "      <th>Decision Tree Classifier</th>\n",
       "      <td>(98.63169897377423, %)</td>\n",
       "    </tr>\n",
       "    <tr>\n",
       "      <th>Random forest Classifier</th>\n",
       "      <td>(98.63169897377423, %)</td>\n",
       "    </tr>\n",
       "    <tr>\n",
       "      <th>Support Vector Machine Classifier</th>\n",
       "      <td>(98.63169897377423, %)</td>\n",
       "    </tr>\n",
       "    <tr>\n",
       "      <th>Navie Bayes Classifier</th>\n",
       "      <td>(84.15051311288484, %)</td>\n",
       "    </tr>\n",
       "  </tbody>\n",
       "</table>\n",
       "</div>"
      ],
      "text/plain": [
       "                                                    Accuracy\n",
       "Logistic Regression                   (95.55302166476625, %)\n",
       "Gradient Boosting Classifier          (98.63169897377423, %)\n",
       "eXtreme Gradient Boosting Classifier  (98.63169897377423, %)\n",
       "K Nearest Neighbour Classifier        (98.46066134549602, %)\n",
       "Decision Tree Classifier              (98.63169897377423, %)\n",
       "Random forest Classifier              (98.63169897377423, %)\n",
       "Support Vector Machine Classifier     (98.63169897377423, %)\n",
       "Navie Bayes Classifier                (84.15051311288484, %)"
      ]
     },
     "execution_count": 135,
     "metadata": {},
     "output_type": "execute_result"
    }
   ],
   "source": [
    "DataFrame = pd.DataFrame(data=[L_R,G_B_M,e_G_B,K_N_N,D_t,R_f,S_V_C,N_B],index=[\"Logistic Regression\",\n",
    "                                                                     \"Gradient Boosting Classifier\",\"eXtreme Gradient Boosting Classifier\",\n",
    "                                                                  \"K Nearest Neighbour Classifier\",'Decision Tree Classifier',\n",
    "                                                                               \"Random forest Classifier \",\"Support Vector Machine Classifier\",\n",
    "                                                                              \"Navie Bayes Classifier\"])\n",
    "\n",
    "DataFrame"
   ]
  },
  {
   "cell_type": "markdown",
   "id": "3fadbadb",
   "metadata": {},
   "source": [
    "------"
   ]
  }
 ],
 "metadata": {
  "kernelspec": {
   "display_name": "Python 3",
   "language": "python",
   "name": "python3"
  },
  "language_info": {
   "codemirror_mode": {
    "name": "ipython",
    "version": 3
   },
   "file_extension": ".py",
   "mimetype": "text/x-python",
   "name": "python",
   "nbconvert_exporter": "python",
   "pygments_lexer": "ipython3",
   "version": "3.7.10"
  }
 },
 "nbformat": 4,
 "nbformat_minor": 5
}
